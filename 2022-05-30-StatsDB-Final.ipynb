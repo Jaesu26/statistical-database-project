{
 "cells": [
  {
   "cell_type": "markdown",
   "id": "b4b0d75a-cf72-46fe-be6d-5d24299de40c",
   "metadata": {},
   "source": [
    "# Final Project"
   ]
  },
  {
   "cell_type": "markdown",
   "id": "6f132008-4c81-42cd-b80f-0fc310fbe699",
   "metadata": {},
   "source": [
    "## problem"
   ]
  },
  {
   "cell_type": "markdown",
   "id": "eedae98f-00f6-462b-bf86-d71634ebd93d",
   "metadata": {},
   "source": [
    "`-` 자신이 어떤 회사를 운영하거나 회사의 데이터 관리자라고 가정해보자 (예를 들어, 온라인 쇼핑몰을 운영하거나 데이터 분석 컨설팅 업체를 설립한다고 생각해볼 수 있겠다).  \n",
    "\n",
    "`-` 회사의 데이터를 관리 및 활용하는 관점에서 데이터베이스를 설계하고, 필요한 데이터 분석 정보를 생성하는 Project를 수행하시오.\n",
    "\n",
    "`-` 보고서에는 다음과 같은 사항이 포함되어야 합니다.\n",
    "\n",
    "1. 필요한 데이터 항목, 데이터로부터 얻어야 되는 정보\n",
    "\n",
    "2. 데이터베이스 구조 (테이블 수 및 테이블들간의 관계)\n",
    "\n",
    "3. 데이터 업로드 과정 (데이터 import 과정, SQL 문장 등)\n",
    "\n",
    "4. 데이터베이스에 업로드된 데이터 요약 (요약 통계량, 표/그래프 활용)\n",
    "\n",
    "5. 필요한 정보를 얻기 위한 데이터 분석 (데이터 분석 기법 활용)\n",
    "\n",
    "6. 결론 및 프로젝트 수행 소감\n",
    "\n",
    "`-` Project 보고서는 1개의 파일로 만들어 첨부하시오. \n",
    "\n",
    "`-` R, Python code는 보고서에 부록으로 넣으시오.\n",
    "\n",
    "`-` 보고서 발표 및 제출 마감일 : 2022. 6. 14(화) 22:00"
   ]
  },
  {
   "cell_type": "markdown",
   "id": "44598ef4-7fb9-449d-b411-012c6621baab",
   "metadata": {},
   "source": [
    "## 할 것 정리"
   ]
  },
  {
   "cell_type": "markdown",
   "id": "d7f4bfa9-cc52-42c0-a972-35b041ff3fee",
   "metadata": {},
   "source": [
    "`-` 국민건강검진 데이터를 바탕으로 국민들의 건강을 check하고 건강 향상을 위한 정책이 필요한지를 판단하자\n",
    "\n",
    "`-` 예컨대 흡연율이 증가하고 있다면 원인 파악은 주어진 데이터로는 모르겠지만 건강을 위해 금연 정책을 할 수는 있음\n",
    "\n",
    "`-` 만약 흡연율이 감소하고 있다면 금연 정책에 들이는 노력을 다른 곳에 사용할지 고려할 수 있다\n",
    "\n",
    "`-` 흡연율이 그대로라면 현재 시행하고 있는 금연 정책이 실효성이 있는지 파악해야 한다(흡연율이 왜 증가하는지 파악해야 함)"
   ]
  },
  {
   "cell_type": "markdown",
   "id": "66054aef-ba2e-44a4-a538-39df5165c290",
   "metadata": {},
   "source": [
    "- 필요한 데이터 항목과 데이터로부터 얻어야 되는 정보"
   ]
  },
  {
   "cell_type": "markdown",
   "id": "a12e3cff-43b0-4228-bf41-70a91d44bde1",
   "metadata": {},
   "source": [
    "`-` 국민건강검진 데이터와 인구수와 병원수 데이터가 필요하다\n",
    "\n",
    "`-` 데이터로부터 고혈압이나 당뇨 등의 비율을 알 수 있다\n",
    "\n",
    "`-` 최근 3개년인 2018년~2020년 까지의 데이터는 일단 DB로 만들고 필요한 컬럼만 뽑아서 사용하자\n",
    "\n",
    "`-` 예컨대 연도별 흡연율의 변화"
   ]
  },
  {
   "cell_type": "markdown",
   "id": "f6a57eac-ec04-44c5-b2d2-2d2e05018d9d",
   "metadata": {},
   "source": [
    "`-` 2018~2020년 인구수 데이터 링크: https://kosis.kr/statHtml/statHtml.do?orgId=101&tblId=DT_1B040A3"
   ]
  },
  {
   "cell_type": "markdown",
   "id": "31420193-ace9-4bad-9995-004e0aca8f55",
   "metadata": {},
   "source": [
    "- 데이터베이스 구조 (테이블 수 및 테이블들간의 관계)\n",
    "\n",
    "`-` 결측치가 많은 데이터끼리 모아 테이블을 만든다\n",
    "\n",
    "`-` 나머지 컬럼에 대해서는 성격상 비슷한 것끼리 묶는다(내과, 안과 등)\n",
    "\n",
    "`-` 테이블의 관계는 외래키를 통해 설명"
   ]
  },
  {
   "cell_type": "markdown",
   "id": "11274b66-37e9-48d9-8e7d-5273f49fc06f",
   "metadata": {},
   "source": [
    "- 나머지 part는 그냥 하면 된다"
   ]
  },
  {
   "cell_type": "markdown",
   "id": "29b0faee-8725-42f1-b609-7fdc0d9deaa9",
   "metadata": {},
   "source": [
    "## 패키지 import"
   ]
  },
  {
   "cell_type": "code",
   "execution_count": 1,
   "id": "7366c049-2b27-4b1f-ae52-d8325ba3e352",
   "metadata": {},
   "outputs": [],
   "source": [
    "import os\n",
    "import sqlite3\n",
    "import pandas as pd\n",
    "import numpy as np\n",
    "import matplotlib.pyplot as plt\n",
    "import seaborn as sns"
   ]
  },
  {
   "cell_type": "markdown",
   "id": "2faf71d2-edec-41e7-bd8f-bf74a15e63cc",
   "metadata": {},
   "source": [
    "## NHIS 데이터 불러오기"
   ]
  },
  {
   "cell_type": "markdown",
   "id": "8b9d44bf-51cd-4681-a582-0a4d7103e074",
   "metadata": {},
   "source": [
    "`-` 국민건강검진 데이터는 2018~2020년의 데이터를 하나의 파일로 묶겠다\n",
    "\n",
    "`-` 결손치 유무, 제3대구치(사랑니) 이상, 치아마모증유무 변수는 2020년 데이터에는 존재하지 않는다\n",
    "\n",
    "`-` 또한, 2018년과 2019년 데이터에서도 컬럼만 존재하지 미시행하였기 때문에 drop 하겠다\n",
    "\n",
    "`-` 가입자 일련번호를 1~3000000으로 set 해주고 데이터 공개일자 변수는 기준년도 변수가 있으므로 drop 하겠다"
   ]
  },
  {
   "cell_type": "code",
   "execution_count": 3,
   "id": "7fc0d793-4a3d-4b6b-b2b6-d6899f8bbe59",
   "metadata": {},
   "outputs": [],
   "source": [
    "def remove_space(df: pd.DataFrame) -> pd.DataFrame:\n",
    "    \"\"\"컬럼명에 포함된 공백을 제거한 데이터프레임을 반환하는 함수\"\"\"\n",
    "    df = df.rename(columns = dict(zip(df.columns, [column.replace(' ', '') for column in df.columns]))) \n",
    "    return df"
   ]
  },
  {
   "cell_type": "code",
   "execution_count": 23,
   "id": "2255358d-830a-4166-ab87-8b93e94cbe66",
   "metadata": {},
   "outputs": [],
   "source": [
    "def get_NHIS_dataframe() -> pd.DataFrame:\n",
    "    \"\"\"\n",
    "    NHIS_2018 ~ NHIS_2020 csv 파일을 불러온 후 간단한 전처리를 수행하고 merge 하여 반환하는 함수\n",
    "    \n",
    "    *--- 전처리 ---*\n",
    "    1. NHIS_2019 데이터에 중복행이 있어 이를 제거\n",
    "    2. csv 파일의 컬럼명을 서로 동일하게 해주기 위해 각 csv 파일의 컬럼명에 있는 공백을 제거\n",
    "    \n",
    "    *--- Data Path ---*\n",
    "    .(current directory)\n",
    "    |--- Data\n",
    "        |--- NHIS_OPEN_GJ_2018.csv\n",
    "        |--- NHIS_OPEN_GJ_2019.csv\n",
    "        |--- NHIS_OPEN_GJ_2020.csv\n",
    "    \"\"\"\n",
    "    df = pd.concat([\n",
    "                    remove_space(pd.read_csv('./Data/NHIS_OPEN_GJ_2018.csv', encoding='euc=kr')), ## 2018년\n",
    "\n",
    "                    remove_space(pd.read_csv('./Data/NHIS_OPEN_GJ_2019.csv', encoding='euc=kr', on_bad_lines='skip').\n",
    "                                    drop_duplicates(). ## 중복행 제거\n",
    "                                    assign(**{'가입자 일련번호': lambda df: df['가입자 일련번호'] + 1000000})), ## 2019년도는 일련번호 1000001부터 시작\n",
    "                    \n",
    "                    remove_space(pd.read_csv('./Data/NHIS_OPEN_GJ_2020.csv', encoding='euc=kr').\n",
    "                                    assign(**{'가입자 일련번호': lambda df: df['가입자 일련번호'] + 2000000})) ## 2020년도는 일련번호 2000001부터 시작\n",
    "                   ]).reset_index().drop('index', axis=1)\n",
    "    return df"
   ]
  },
  {
   "cell_type": "code",
   "execution_count": 108,
   "id": "4f1dd0b5-14bf-454f-a9dd-49f6c074c428",
   "metadata": {},
   "outputs": [],
   "source": [
    "df = get_NHIS_dataframe() ## 행이 3백만개라 시간이 조금 걸린다"
   ]
  },
  {
   "cell_type": "markdown",
   "id": "c30b3b8e-ddce-44ac-8c5c-eac0c7ee987e",
   "metadata": {},
   "source": [
    "- 데이터프레임의 간단한 정보"
   ]
  },
  {
   "cell_type": "code",
   "execution_count": 109,
   "id": "70dfeabd-227f-4025-8e5b-82c5146fd708",
   "metadata": {},
   "outputs": [
    {
     "name": "stdout",
     "output_type": "stream",
     "text": [
      "<class 'pandas.core.frame.DataFrame'>\n",
      "RangeIndex: 3000000 entries, 0 to 2999999\n",
      "Data columns (total 34 columns):\n",
      " #   Column        Dtype  \n",
      "---  ------        -----  \n",
      " 0   기준년도          int64  \n",
      " 1   가입자일련번호       int64  \n",
      " 2   성별코드          int64  \n",
      " 3   연령대코드(5세단위)   int64  \n",
      " 4   시도코드          int64  \n",
      " 5   신장(5Cm단위)     int64  \n",
      " 6   체중(5Kg단위)     int64  \n",
      " 7   허리둘레          float64\n",
      " 8   시력(좌)         float64\n",
      " 9   시력(우)         float64\n",
      " 10  청력(좌)         float64\n",
      " 11  청력(우)         float64\n",
      " 12  수축기혈압         float64\n",
      " 13  이완기혈압         float64\n",
      " 14  식전혈당(공복혈당)    float64\n",
      " 15  총콜레스테롤        float64\n",
      " 16  트리글리세라이드      float64\n",
      " 17  HDL콜레스테롤      float64\n",
      " 18  LDL콜레스테롤      float64\n",
      " 19  혈색소           float64\n",
      " 20  요단백           float64\n",
      " 21  혈청크레아티닌       float64\n",
      " 22  (혈청지오티)AST    float64\n",
      " 23  (혈청지오티)ALT    float64\n",
      " 24  감마지티피         float64\n",
      " 25  흡연상태          float64\n",
      " 26  음주여부          object \n",
      " 27  구강검진수검여부      object \n",
      " 28  치아우식증유무       float64\n",
      " 29  결손치유무         object \n",
      " 30  치아마모증유무       object \n",
      " 31  제3대구치(사랑니)이상  object \n",
      " 32  치석            object \n",
      " 33  데이터공개일자       object \n",
      "dtypes: float64(20), int64(7), object(7)\n",
      "memory usage: 778.2+ MB\n"
     ]
    }
   ],
   "source": [
    "df.info()"
   ]
  },
  {
   "cell_type": "markdown",
   "id": "c9620bf1-7b1f-4e28-b7cb-95ce0f8eb4f4",
   "metadata": {},
   "source": [
    "- 결측치"
   ]
  },
  {
   "cell_type": "code",
   "execution_count": 110,
   "id": "7167bd2d-aab8-4e9e-b0d1-d82e8ad7258a",
   "metadata": {},
   "outputs": [
    {
     "data": {
      "text/plain": [
       "기준년도                  0\n",
       "가입자일련번호               0\n",
       "성별코드                  0\n",
       "연령대코드(5세단위)           0\n",
       "시도코드                  0\n",
       "신장(5Cm단위)             0\n",
       "체중(5Kg단위)             0\n",
       "허리둘레                925\n",
       "시력(좌)               705\n",
       "시력(우)               706\n",
       "청력(좌)               620\n",
       "청력(우)               625\n",
       "수축기혈압             18686\n",
       "이완기혈압             18689\n",
       "식전혈당(공복혈당)        19040\n",
       "총콜레스테롤          1931389\n",
       "트리글리세라이드        1931386\n",
       "HDL콜레스테롤        1931398\n",
       "LDL콜레스테롤        1952503\n",
       "혈색소               19057\n",
       "요단백               33017\n",
       "혈청크레아티닌           19034\n",
       "(혈청지오티)AST        19029\n",
       "(혈청지오티)ALT        19031\n",
       "감마지티피             19042\n",
       "흡연상태                743\n",
       "음주여부             710221\n",
       "구강검진수검여부              0\n",
       "치아우식증유무         1870945\n",
       "결손치유무           2000000\n",
       "치아마모증유무         2000000\n",
       "제3대구치(사랑니)이상    2000000\n",
       "치석              1893308\n",
       "데이터공개일자               0\n",
       "dtype: int64"
      ]
     },
     "execution_count": 110,
     "metadata": {},
     "output_type": "execute_result"
    }
   ],
   "source": [
    "df.isnull().sum()"
   ]
  },
  {
   "cell_type": "markdown",
   "id": "2b0a2464-2b5d-434c-bbb8-daa9ca38e15c",
   "metadata": {},
   "source": [
    "- 전처리"
   ]
  },
  {
   "cell_type": "markdown",
   "id": "6edf058f-7a01-4207-ae7f-f9ab8ddf6d00",
   "metadata": {},
   "source": [
    "`-` 위에서 언급했듯이 결손치 유무, 제3대구치(사랑니) 이상, 치아마모증유무, 데이터 공개일자 변수는 drop 하겠다"
   ]
  },
  {
   "cell_type": "code",
   "execution_count": 121,
   "id": "d2ba6a44-e03f-420d-b7dd-39ad4b177832",
   "metadata": {},
   "outputs": [],
   "source": [
    "def drop_columns(df: pd.DataFrame) -> pd.DataFrame:\n",
    "    \"\"\"\n",
    "    drop_columns 목록에 존재하는 변수를 drop한 데이터프레임을 반환하는 함수(원본이 변한다)\n",
    "    \"\"\"\n",
    "    drop_columns = ['결손치유무', '제3대구치(사랑니)이상', '치아마모증유무', '데이터공개일자']\n",
    "    for col in drop_columns:\n",
    "        try:\n",
    "            df = df.drop([col], axis=1)        \n",
    "        except:\n",
    "            pass\n",
    "    return df"
   ]
  },
  {
   "cell_type": "code",
   "execution_count": 122,
   "id": "507eef2d-f65c-43da-be18-548bb01e7ce3",
   "metadata": {},
   "outputs": [],
   "source": [
    "df = drop_columns(df) "
   ]
  },
  {
   "cell_type": "markdown",
   "id": "563067d9-19a9-4cb4-8525-973756528b2f",
   "metadata": {},
   "source": [
    "`-` 음주 여부, 구강검진 수검여부, 치석변수는 unique한 값으로 `0, 1, 'Y', 'N'` 를 가지는데 편의상 `'Y' -> 1`로 `'N' -> 0`으로 바꿔주겠다"
   ]
  },
  {
   "cell_type": "code",
   "execution_count": 123,
   "id": "08871ce1-cab5-4587-8ccc-ffe48cd49177",
   "metadata": {},
   "outputs": [],
   "source": [
    "def bool2int(df: pd.DataFrame) -> pd.DataFrame:\n",
    "    \"\"\"변수가 가지는 값에서 'Y' -> 1, 'N' -> 0으로 mapping하고 해당 데이터프레임을 반환(원본이 변한다)\"\"\"\n",
    "    columns = ['음주여부', '구강검진수검여부', '치석']\n",
    "    for col in columns:\n",
    "        df[col] = df[col].map({'Y':1, 'N':0, 1:1, 0:0})\n",
    "    return df"
   ]
  },
  {
   "cell_type": "code",
   "execution_count": 124,
   "id": "7b928bc0-15f5-441c-9940-35fc53ea0948",
   "metadata": {},
   "outputs": [],
   "source": [
    "df = bool2int(df)"
   ]
  },
  {
   "cell_type": "markdown",
   "id": "aa624751-77af-4856-b462-6da5151a6e93",
   "metadata": {},
   "source": [
    "- 테이블 나누기(MedicalCheckup)\n",
    "\n",
    "`-` 전처리가 끝난 csv 파일은 db로 올려야 한다!!!(물론 테이블을 나누고)\n",
    "\n",
    "`-` 각 테이블에는 `기본키`가 있어야 하는데 `기본키는 일련번호`를 사용할 것이다\n",
    "\n",
    "`-` `시도코드`와 `시도이름` 속성을 갖는 `Region` 테이블을 만들겠다(`시도코드 -> 기본키`)\n",
    "\n",
    "`-` 결측치가 많은 컬럼은 `총콜레스테롤, 트리글리세라이드, HDL콜레스테롤, LDL콜레스테롤, 치아우식증유무, 치석, 음주여부`이다\n",
    "\n",
    "`-` 컬럼의 속성을 콜레스테롤과 치아(Tooth)와 음주(Alcohol)로 나누어 테이블을 3개 만들겠다(음주는 애매하긴 한데 일단 독립적으로 만들겠다)\n",
    "\n",
    "`-` `수축기혈압, 이완기혈압, 식전혈당(공복혈당), 혈청크레아티닌, (혈청지오티)AST, (혈청지오티)ALT`을 `Blood_Pressure_Sugar` 테이블로 만들겠다\n",
    "\n",
    "`-` 나머지에 해당하는 `기준년도, 가입자일련번호, 성별코드, 연령대코드(5세단위), 시도코드, 신장(5Cm단위), 체중(5Kg단위), 허리둘레, 시력(좌), 시력(우), 청력(좌), 청력(우) 흡연상태`를 하나의 테이블로 만들겠다\n",
    "\n",
    "`-` 여기서 `가입자일련번호 -> 기본키`, `시도코드 -> 외래키` 이다"
   ]
  },
  {
   "cell_type": "markdown",
   "id": "c1eef967-7ce8-48c6-9df3-61e847e62713",
   "metadata": {},
   "source": [
    "- Region table"
   ]
  },
  {
   "cell_type": "code",
   "execution_count": 268,
   "id": "ecd1219d-90c4-4c81-be32-9c8eb84a01dc",
   "metadata": {},
   "outputs": [],
   "source": [
    "def get_region_table() -> pd.DataFrame:\n",
    "    df = pd.DataFrame({'Region_Code':[0, 11, 42, 26, 43, 27, 44, 28, 45, 29, 46, 30, 47, 31, 48, 36, 49, 41],\n",
    "                       'Region_Name':['전국', '서울특별시', '강원도', '부산광역시', '충청북도', '대구광역시', '충청남도',\n",
    "                                      '인천광역시', '전라북도', '광주광역시', '전라남도', '대전광역시', '경상북도',\n",
    "                                      '울산광역시', '경상남도', '세종특별자치시', '제주특별자치도', '경기도']})\n",
    "    return df"
   ]
  },
  {
   "cell_type": "code",
   "execution_count": 269,
   "id": "638cfed3-98dc-475b-9906-a627ab1c0157",
   "metadata": {},
   "outputs": [],
   "source": [
    "region_table = get_region_table()"
   ]
  },
  {
   "cell_type": "markdown",
   "id": "c78bdbef-63b2-40e5-bf32-6c661e3731a4",
   "metadata": {},
   "source": [
    "- Tooth table"
   ]
  },
  {
   "cell_type": "markdown",
   "id": "a47f5ddc-bed5-4e9c-b878-45eb9756f846",
   "metadata": {},
   "source": [
    "`-` 치석 변수와 치아우식증유무 변수 중 하나라도 NA가 아닌 데이터로 table을 구성하겠다"
   ]
  },
  {
   "cell_type": "code",
   "execution_count": 173,
   "id": "d11a51c2-dc70-4beb-89f0-9881f95c381a",
   "metadata": {},
   "outputs": [],
   "source": [
    "def get_tooth_table(df: pd.DataFrame) -> pd.DataFrame:\n",
    "    \"\"\"치아우식증 유무 변수와 치석 변수 둘다 NA가 아닌 행만 추출하고 table 구성\"\"\"\n",
    "    df_ = df.copy()\n",
    "    df_ = df_.loc[(df_['치아우식증유무'].isnull()) & (df_['치석'].isnull()) == False, ['가입자일련번호', '치아우식증유무', '치석']] ## 가입자일련번호는 기본키\n",
    "    df_ = df_.reset_index().drop('index', axis=1)\n",
    "    return df_"
   ]
  },
  {
   "cell_type": "code",
   "execution_count": 160,
   "id": "18f79cb4-1e4d-40de-b33b-661f7ecdf56e",
   "metadata": {},
   "outputs": [],
   "source": [
    "tooth_table = get_tooth_table(df)"
   ]
  },
  {
   "cell_type": "code",
   "execution_count": 179,
   "id": "ffb9d7d2-c40c-4795-9ed2-0eb6ad71de02",
   "metadata": {},
   "outputs": [
    {
     "data": {
      "text/plain": [
       "(1129056, 3)"
      ]
     },
     "execution_count": 179,
     "metadata": {},
     "output_type": "execute_result"
    }
   ],
   "source": [
    "tooth_table.shape"
   ]
  },
  {
   "cell_type": "code",
   "execution_count": 161,
   "id": "8c813e4f-e8d7-4440-a722-916ec2f24a71",
   "metadata": {},
   "outputs": [
    {
     "data": {
      "text/html": [
       "<div>\n",
       "<style scoped>\n",
       "    .dataframe tbody tr th:only-of-type {\n",
       "        vertical-align: middle;\n",
       "    }\n",
       "\n",
       "    .dataframe tbody tr th {\n",
       "        vertical-align: top;\n",
       "    }\n",
       "\n",
       "    .dataframe thead th {\n",
       "        text-align: right;\n",
       "    }\n",
       "</style>\n",
       "<table border=\"1\" class=\"dataframe\">\n",
       "  <thead>\n",
       "    <tr style=\"text-align: right;\">\n",
       "      <th></th>\n",
       "      <th>가입자일련번호</th>\n",
       "      <th>치아우식증유무</th>\n",
       "      <th>치석</th>\n",
       "    </tr>\n",
       "  </thead>\n",
       "  <tbody>\n",
       "    <tr>\n",
       "      <th>0</th>\n",
       "      <td>2</td>\n",
       "      <td>0.0</td>\n",
       "      <td>0.0</td>\n",
       "    </tr>\n",
       "    <tr>\n",
       "      <th>1</th>\n",
       "      <td>3</td>\n",
       "      <td>0.0</td>\n",
       "      <td>0.0</td>\n",
       "    </tr>\n",
       "    <tr>\n",
       "      <th>2</th>\n",
       "      <td>4</td>\n",
       "      <td>0.0</td>\n",
       "      <td>0.0</td>\n",
       "    </tr>\n",
       "    <tr>\n",
       "      <th>3</th>\n",
       "      <td>6</td>\n",
       "      <td>0.0</td>\n",
       "      <td>1.0</td>\n",
       "    </tr>\n",
       "    <tr>\n",
       "      <th>4</th>\n",
       "      <td>11</td>\n",
       "      <td>0.0</td>\n",
       "      <td>1.0</td>\n",
       "    </tr>\n",
       "  </tbody>\n",
       "</table>\n",
       "</div>"
      ],
      "text/plain": [
       "   가입자일련번호  치아우식증유무   치석\n",
       "0        2      0.0  0.0\n",
       "1        3      0.0  0.0\n",
       "2        4      0.0  0.0\n",
       "3        6      0.0  1.0\n",
       "4       11      0.0  1.0"
      ]
     },
     "execution_count": 161,
     "metadata": {},
     "output_type": "execute_result"
    }
   ],
   "source": [
    "tooth_table.head()"
   ]
  },
  {
   "cell_type": "markdown",
   "id": "4ed9ef9c-bc9c-4f3d-94f0-45be1c74a2f7",
   "metadata": {},
   "source": [
    "- Alcohol table"
   ]
  },
  {
   "cell_type": "code",
   "execution_count": 192,
   "id": "131005fb-ca06-4e92-a1f1-82d29fd220a9",
   "metadata": {},
   "outputs": [],
   "source": [
    "def get_alcohol_table(df: pd.DataFrame) -> pd.DataFrame:\n",
    "    \"\"\"음주여부 변수가 NA가 아닌 행만 추출하고 table 구성\"\"\"\n",
    "    df_ = df.copy()\n",
    "    df_ = df_.loc[(df_['음주여부'].isnull()) == False, ['가입자일련번호', '음주여부']] ## 가입자일련번호는 기본키\n",
    "    df_ = df_.reset_index().drop('index', axis=1)\n",
    "    return df_"
   ]
  },
  {
   "cell_type": "code",
   "execution_count": 167,
   "id": "80dc7c5c-28aa-4b11-9372-5fb0dbca4d5c",
   "metadata": {},
   "outputs": [],
   "source": [
    "alcohol_table = get_alcohol_table(df)"
   ]
  },
  {
   "cell_type": "code",
   "execution_count": 178,
   "id": "12370611-ac95-4e1f-8ebc-0217f4aec983",
   "metadata": {},
   "outputs": [
    {
     "data": {
      "text/plain": [
       "(2289779, 2)"
      ]
     },
     "execution_count": 178,
     "metadata": {},
     "output_type": "execute_result"
    }
   ],
   "source": [
    "alcohol_table.shape"
   ]
  },
  {
   "cell_type": "code",
   "execution_count": 169,
   "id": "ab6aa670-4f3a-42fd-9080-f15cd025d25b",
   "metadata": {},
   "outputs": [
    {
     "data": {
      "text/html": [
       "<div>\n",
       "<style scoped>\n",
       "    .dataframe tbody tr th:only-of-type {\n",
       "        vertical-align: middle;\n",
       "    }\n",
       "\n",
       "    .dataframe tbody tr th {\n",
       "        vertical-align: top;\n",
       "    }\n",
       "\n",
       "    .dataframe thead th {\n",
       "        text-align: right;\n",
       "    }\n",
       "</style>\n",
       "<table border=\"1\" class=\"dataframe\">\n",
       "  <thead>\n",
       "    <tr style=\"text-align: right;\">\n",
       "      <th></th>\n",
       "      <th>가입자일련번호</th>\n",
       "      <th>음주여부</th>\n",
       "    </tr>\n",
       "  </thead>\n",
       "  <tbody>\n",
       "    <tr>\n",
       "      <th>0</th>\n",
       "      <td>2</td>\n",
       "      <td>1.0</td>\n",
       "    </tr>\n",
       "    <tr>\n",
       "      <th>1</th>\n",
       "      <td>3</td>\n",
       "      <td>1.0</td>\n",
       "    </tr>\n",
       "    <tr>\n",
       "      <th>2</th>\n",
       "      <td>5</td>\n",
       "      <td>1.0</td>\n",
       "    </tr>\n",
       "    <tr>\n",
       "      <th>3</th>\n",
       "      <td>6</td>\n",
       "      <td>1.0</td>\n",
       "    </tr>\n",
       "    <tr>\n",
       "      <th>4</th>\n",
       "      <td>8</td>\n",
       "      <td>1.0</td>\n",
       "    </tr>\n",
       "  </tbody>\n",
       "</table>\n",
       "</div>"
      ],
      "text/plain": [
       "   가입자일련번호  음주여부\n",
       "0        2   1.0\n",
       "1        3   1.0\n",
       "2        5   1.0\n",
       "3        6   1.0\n",
       "4        8   1.0"
      ]
     },
     "execution_count": 169,
     "metadata": {},
     "output_type": "execute_result"
    }
   ],
   "source": [
    "alcohol_table.head()"
   ]
  },
  {
   "cell_type": "markdown",
   "id": "a1b7f5e9-d1e2-4761-8894-0faa3c092fd3",
   "metadata": {},
   "source": [
    "- Cholesterol table"
   ]
  },
  {
   "cell_type": "code",
   "execution_count": 200,
   "id": "835cb931-f802-468b-aa24-a54f939a74d6",
   "metadata": {},
   "outputs": [],
   "source": [
    "def get_cholesterol_table(df: pd.DataFrame) -> pd.DataFrame:\n",
    "    \"\"\"\n",
    "    가입자일련번호, 총콜레스테롤, 트리글리세라이드, HDL콜레스테롤, LDL콜레스테롤 변수로 table 구성\n",
    "    \"\"\"\n",
    "    columns = ['총콜레스테롤', '트리글리세라이드', 'HDL콜레스테롤', 'LDL콜레스테롤'] ## 가입자일련번호는 기본키\n",
    "    df_ = df.copy()\n",
    "    df_ = df_.dropna(how='all', subset=columns) ## columns가 모두 NA인 행은 drop\n",
    "    df_ = df_[['가입자일련번호'] + columns] ## 가입자일련번호는 기본키\n",
    "    df_ = df_.reset_index().drop('index', axis=1)\n",
    "    return df_"
   ]
  },
  {
   "cell_type": "code",
   "execution_count": 197,
   "id": "5f9ba407-4ad0-4faa-9f11-1d1a775c5b7c",
   "metadata": {},
   "outputs": [],
   "source": [
    "cholesterol_table = get_cholesterol_table(df)"
   ]
  },
  {
   "cell_type": "code",
   "execution_count": 198,
   "id": "08793999-b092-47c1-bf5c-a93c718d541a",
   "metadata": {},
   "outputs": [
    {
     "data": {
      "text/plain": [
       "(1068659, 5)"
      ]
     },
     "execution_count": 198,
     "metadata": {},
     "output_type": "execute_result"
    }
   ],
   "source": [
    "cholesterol_table.shape"
   ]
  },
  {
   "cell_type": "code",
   "execution_count": 199,
   "id": "81435966-9d53-4f18-a50e-5e155fc04529",
   "metadata": {},
   "outputs": [
    {
     "data": {
      "text/html": [
       "<div>\n",
       "<style scoped>\n",
       "    .dataframe tbody tr th:only-of-type {\n",
       "        vertical-align: middle;\n",
       "    }\n",
       "\n",
       "    .dataframe tbody tr th {\n",
       "        vertical-align: top;\n",
       "    }\n",
       "\n",
       "    .dataframe thead th {\n",
       "        text-align: right;\n",
       "    }\n",
       "</style>\n",
       "<table border=\"1\" class=\"dataframe\">\n",
       "  <thead>\n",
       "    <tr style=\"text-align: right;\">\n",
       "      <th></th>\n",
       "      <th>가입자일련번호</th>\n",
       "      <th>총콜레스테롤</th>\n",
       "      <th>트리글리세라이드</th>\n",
       "      <th>HDL콜레스테롤</th>\n",
       "      <th>LDL콜레스테롤</th>\n",
       "    </tr>\n",
       "  </thead>\n",
       "  <tbody>\n",
       "    <tr>\n",
       "      <th>0</th>\n",
       "      <td>4</td>\n",
       "      <td>234.0</td>\n",
       "      <td>90.0</td>\n",
       "      <td>80.0</td>\n",
       "      <td>135.0</td>\n",
       "    </tr>\n",
       "    <tr>\n",
       "      <th>1</th>\n",
       "      <td>7</td>\n",
       "      <td>171.0</td>\n",
       "      <td>168.0</td>\n",
       "      <td>34.0</td>\n",
       "      <td>103.0</td>\n",
       "    </tr>\n",
       "    <tr>\n",
       "      <th>2</th>\n",
       "      <td>8</td>\n",
       "      <td>186.0</td>\n",
       "      <td>72.0</td>\n",
       "      <td>60.0</td>\n",
       "      <td>111.0</td>\n",
       "    </tr>\n",
       "    <tr>\n",
       "      <th>3</th>\n",
       "      <td>9</td>\n",
       "      <td>189.0</td>\n",
       "      <td>60.0</td>\n",
       "      <td>87.0</td>\n",
       "      <td>90.0</td>\n",
       "    </tr>\n",
       "    <tr>\n",
       "      <th>4</th>\n",
       "      <td>11</td>\n",
       "      <td>134.0</td>\n",
       "      <td>64.0</td>\n",
       "      <td>53.0</td>\n",
       "      <td>68.0</td>\n",
       "    </tr>\n",
       "  </tbody>\n",
       "</table>\n",
       "</div>"
      ],
      "text/plain": [
       "   가입자일련번호  총콜레스테롤  트리글리세라이드  HDL콜레스테롤  LDL콜레스테롤\n",
       "0        4   234.0      90.0      80.0     135.0\n",
       "1        7   171.0     168.0      34.0     103.0\n",
       "2        8   186.0      72.0      60.0     111.0\n",
       "3        9   189.0      60.0      87.0      90.0\n",
       "4       11   134.0      64.0      53.0      68.0"
      ]
     },
     "execution_count": 199,
     "metadata": {},
     "output_type": "execute_result"
    }
   ],
   "source": [
    "cholesterol_table.head()"
   ]
  },
  {
   "cell_type": "markdown",
   "id": "8ad9acd5-0c89-4361-93cd-f32bf3a5c8b5",
   "metadata": {},
   "source": [
    "- Blood Pressure and Sugar table"
   ]
  },
  {
   "cell_type": "code",
   "execution_count": 202,
   "id": "a73e260a-f410-47a1-a21e-2d6fa73f531d",
   "metadata": {},
   "outputs": [],
   "source": [
    "def get_blood_pressure_sugar_table(df: pd.DataFrame) -> pd.DataFrame:\n",
    "    \"\"\"\n",
    "    가입자일련번호, 수축기혈압, 이완기혈압, 식전혈당(공복혈당), 혈청크레아티닌, (혈청지오티)AST, (혈청지오티)ALT 변수로 table 구성\n",
    "    \"\"\"\n",
    "    columns = ['수축기혈압', '이완기혈압', '식전혈당(공복혈당)', '혈청크레아티닌', '(혈청지오티)AST', '(혈청지오티)ALT'] \n",
    "    df_ = df.copy()\n",
    "    df_ = df_[['가입자일련번호'] + columns] ## 가입자일련번호는 기본키\n",
    "    return df_"
   ]
  },
  {
   "cell_type": "code",
   "execution_count": 203,
   "id": "9a8910ba-2443-47bc-a257-e823bf71deeb",
   "metadata": {},
   "outputs": [],
   "source": [
    "blood_pressure_sugar_table = get_blood_pressure_sugar_table(df)"
   ]
  },
  {
   "cell_type": "code",
   "execution_count": 205,
   "id": "3c9667ad-65d4-4150-ade4-2ffb3b2f96a6",
   "metadata": {},
   "outputs": [
    {
     "data": {
      "text/plain": [
       "(3000000, 7)"
      ]
     },
     "execution_count": 205,
     "metadata": {},
     "output_type": "execute_result"
    }
   ],
   "source": [
    "blood_pressure_sugar_table.shape"
   ]
  },
  {
   "cell_type": "code",
   "execution_count": 204,
   "id": "43595c3a-cb78-4078-a0d3-0d6e72e7eab1",
   "metadata": {},
   "outputs": [
    {
     "data": {
      "text/html": [
       "<div>\n",
       "<style scoped>\n",
       "    .dataframe tbody tr th:only-of-type {\n",
       "        vertical-align: middle;\n",
       "    }\n",
       "\n",
       "    .dataframe tbody tr th {\n",
       "        vertical-align: top;\n",
       "    }\n",
       "\n",
       "    .dataframe thead th {\n",
       "        text-align: right;\n",
       "    }\n",
       "</style>\n",
       "<table border=\"1\" class=\"dataframe\">\n",
       "  <thead>\n",
       "    <tr style=\"text-align: right;\">\n",
       "      <th></th>\n",
       "      <th>가입자일련번호</th>\n",
       "      <th>수축기혈압</th>\n",
       "      <th>이완기혈압</th>\n",
       "      <th>식전혈당(공복혈당)</th>\n",
       "      <th>혈청크레아티닌</th>\n",
       "      <th>(혈청지오티)AST</th>\n",
       "      <th>(혈청지오티)ALT</th>\n",
       "    </tr>\n",
       "  </thead>\n",
       "  <tbody>\n",
       "    <tr>\n",
       "      <th>0</th>\n",
       "      <td>1</td>\n",
       "      <td>110.0</td>\n",
       "      <td>60.0</td>\n",
       "      <td>96.0</td>\n",
       "      <td>0.5</td>\n",
       "      <td>21.0</td>\n",
       "      <td>8.0</td>\n",
       "    </tr>\n",
       "    <tr>\n",
       "      <th>1</th>\n",
       "      <td>2</td>\n",
       "      <td>128.0</td>\n",
       "      <td>78.0</td>\n",
       "      <td>79.0</td>\n",
       "      <td>1.0</td>\n",
       "      <td>35.0</td>\n",
       "      <td>45.0</td>\n",
       "    </tr>\n",
       "    <tr>\n",
       "      <th>2</th>\n",
       "      <td>3</td>\n",
       "      <td>128.0</td>\n",
       "      <td>65.0</td>\n",
       "      <td>80.0</td>\n",
       "      <td>1.1</td>\n",
       "      <td>77.0</td>\n",
       "      <td>47.0</td>\n",
       "    </tr>\n",
       "    <tr>\n",
       "      <th>3</th>\n",
       "      <td>4</td>\n",
       "      <td>151.0</td>\n",
       "      <td>89.0</td>\n",
       "      <td>100.0</td>\n",
       "      <td>0.6</td>\n",
       "      <td>19.0</td>\n",
       "      <td>10.0</td>\n",
       "    </tr>\n",
       "    <tr>\n",
       "      <th>4</th>\n",
       "      <td>5</td>\n",
       "      <td>114.0</td>\n",
       "      <td>62.0</td>\n",
       "      <td>124.0</td>\n",
       "      <td>0.5</td>\n",
       "      <td>26.0</td>\n",
       "      <td>26.0</td>\n",
       "    </tr>\n",
       "  </tbody>\n",
       "</table>\n",
       "</div>"
      ],
      "text/plain": [
       "   가입자일련번호  수축기혈압  이완기혈압  식전혈당(공복혈당)  혈청크레아티닌  (혈청지오티)AST  (혈청지오티)ALT\n",
       "0        1  110.0   60.0        96.0      0.5        21.0         8.0\n",
       "1        2  128.0   78.0        79.0      1.0        35.0        45.0\n",
       "2        3  128.0   65.0        80.0      1.1        77.0        47.0\n",
       "3        4  151.0   89.0       100.0      0.6        19.0        10.0\n",
       "4        5  114.0   62.0       124.0      0.5        26.0        26.0"
      ]
     },
     "execution_count": 204,
     "metadata": {},
     "output_type": "execute_result"
    }
   ],
   "source": [
    "blood_pressure_sugar_table.head()"
   ]
  },
  {
   "cell_type": "markdown",
   "id": "cbacdda5-b4a8-4b9d-958f-d1a032f65dfe",
   "metadata": {},
   "source": [
    "- Basic Health table"
   ]
  },
  {
   "cell_type": "code",
   "execution_count": 210,
   "id": "5a9e23b5-b9b4-4acf-9cd9-f31a23d552cb",
   "metadata": {},
   "outputs": [],
   "source": [
    "def get_basic_health_table(df: pd.DataFrame) -> pd.DataFrame:\n",
    "    \"\"\"\n",
    "    *--- columns --**\n",
    "    기준년도, 가입자일련번호, 성별코드, 연령대코드(5세단위),\n",
    "    시도코드, 신장(5Cm단위), 체중(5Kg단위), 허리둘레,\n",
    "    시력(좌), 시력(우), 청력(좌), 청력(우), 흡연상태\n",
    "    \n",
    "    위에 해당하는 변수들로 table 구성하고 반환\n",
    "    \"\"\"\n",
    "    columns = ['기준년도', '성별코드', '연령대코드(5세단위)',\n",
    "               '시도코드', '신장(5Cm단위)', '체중(5Kg단위)', '허리둘레',\n",
    "               '시력(좌)', '시력(우)', '청력(좌)', '청력(우)', '흡연상태']\n",
    "    \n",
    "    df_ = df.copy()\n",
    "    df_ = df_[['가입자일련번호'] + columns] ## 가입자일련번호는 기본키\n",
    "    return df_"
   ]
  },
  {
   "cell_type": "code",
   "execution_count": 211,
   "id": "c70c637c-5cf5-4354-bc7e-ca05d288f9c9",
   "metadata": {},
   "outputs": [],
   "source": [
    "basic_health_table = get_basic_health_table(df)"
   ]
  },
  {
   "cell_type": "code",
   "execution_count": 212,
   "id": "286e2f1b-a464-45e0-89f1-686434627ed7",
   "metadata": {},
   "outputs": [
    {
     "data": {
      "text/plain": [
       "(3000000, 13)"
      ]
     },
     "execution_count": 212,
     "metadata": {},
     "output_type": "execute_result"
    }
   ],
   "source": [
    "basic_health_table.shape"
   ]
  },
  {
   "cell_type": "code",
   "execution_count": 213,
   "id": "609d1826-9f75-40c5-993b-b31eda5a5715",
   "metadata": {},
   "outputs": [
    {
     "data": {
      "text/html": [
       "<div>\n",
       "<style scoped>\n",
       "    .dataframe tbody tr th:only-of-type {\n",
       "        vertical-align: middle;\n",
       "    }\n",
       "\n",
       "    .dataframe tbody tr th {\n",
       "        vertical-align: top;\n",
       "    }\n",
       "\n",
       "    .dataframe thead th {\n",
       "        text-align: right;\n",
       "    }\n",
       "</style>\n",
       "<table border=\"1\" class=\"dataframe\">\n",
       "  <thead>\n",
       "    <tr style=\"text-align: right;\">\n",
       "      <th></th>\n",
       "      <th>가입자일련번호</th>\n",
       "      <th>기준년도</th>\n",
       "      <th>성별코드</th>\n",
       "      <th>연령대코드(5세단위)</th>\n",
       "      <th>시도코드</th>\n",
       "      <th>신장(5Cm단위)</th>\n",
       "      <th>체중(5Kg단위)</th>\n",
       "      <th>허리둘레</th>\n",
       "      <th>시력(좌)</th>\n",
       "      <th>시력(우)</th>\n",
       "      <th>청력(좌)</th>\n",
       "      <th>청력(우)</th>\n",
       "      <th>흡연상태</th>\n",
       "    </tr>\n",
       "  </thead>\n",
       "  <tbody>\n",
       "    <tr>\n",
       "      <th>0</th>\n",
       "      <td>1</td>\n",
       "      <td>2018</td>\n",
       "      <td>2</td>\n",
       "      <td>7</td>\n",
       "      <td>48</td>\n",
       "      <td>160</td>\n",
       "      <td>60</td>\n",
       "      <td>79.5</td>\n",
       "      <td>1.5</td>\n",
       "      <td>1.5</td>\n",
       "      <td>1.0</td>\n",
       "      <td>1.0</td>\n",
       "      <td>1.0</td>\n",
       "    </tr>\n",
       "    <tr>\n",
       "      <th>1</th>\n",
       "      <td>2</td>\n",
       "      <td>2018</td>\n",
       "      <td>1</td>\n",
       "      <td>6</td>\n",
       "      <td>26</td>\n",
       "      <td>170</td>\n",
       "      <td>55</td>\n",
       "      <td>69.3</td>\n",
       "      <td>1.2</td>\n",
       "      <td>0.8</td>\n",
       "      <td>1.0</td>\n",
       "      <td>1.0</td>\n",
       "      <td>1.0</td>\n",
       "    </tr>\n",
       "    <tr>\n",
       "      <th>2</th>\n",
       "      <td>3</td>\n",
       "      <td>2018</td>\n",
       "      <td>1</td>\n",
       "      <td>12</td>\n",
       "      <td>28</td>\n",
       "      <td>165</td>\n",
       "      <td>70</td>\n",
       "      <td>85.0</td>\n",
       "      <td>0.8</td>\n",
       "      <td>0.8</td>\n",
       "      <td>2.0</td>\n",
       "      <td>1.0</td>\n",
       "      <td>2.0</td>\n",
       "    </tr>\n",
       "    <tr>\n",
       "      <th>3</th>\n",
       "      <td>4</td>\n",
       "      <td>2018</td>\n",
       "      <td>2</td>\n",
       "      <td>15</td>\n",
       "      <td>27</td>\n",
       "      <td>150</td>\n",
       "      <td>45</td>\n",
       "      <td>71.5</td>\n",
       "      <td>0.4</td>\n",
       "      <td>0.3</td>\n",
       "      <td>1.0</td>\n",
       "      <td>1.0</td>\n",
       "      <td>1.0</td>\n",
       "    </tr>\n",
       "    <tr>\n",
       "      <th>4</th>\n",
       "      <td>5</td>\n",
       "      <td>2018</td>\n",
       "      <td>2</td>\n",
       "      <td>14</td>\n",
       "      <td>41</td>\n",
       "      <td>145</td>\n",
       "      <td>50</td>\n",
       "      <td>77.0</td>\n",
       "      <td>0.7</td>\n",
       "      <td>0.6</td>\n",
       "      <td>1.0</td>\n",
       "      <td>1.0</td>\n",
       "      <td>1.0</td>\n",
       "    </tr>\n",
       "  </tbody>\n",
       "</table>\n",
       "</div>"
      ],
      "text/plain": [
       "   가입자일련번호  기준년도  성별코드  연령대코드(5세단위)  시도코드  신장(5Cm단위)  체중(5Kg단위)  허리둘레  시력(좌)  \\\n",
       "0        1  2018     2            7    48        160         60  79.5    1.5   \n",
       "1        2  2018     1            6    26        170         55  69.3    1.2   \n",
       "2        3  2018     1           12    28        165         70  85.0    0.8   \n",
       "3        4  2018     2           15    27        150         45  71.5    0.4   \n",
       "4        5  2018     2           14    41        145         50  77.0    0.7   \n",
       "\n",
       "   시력(우)  청력(좌)  청력(우)  흡연상태  \n",
       "0    1.5    1.0    1.0   1.0  \n",
       "1    0.8    1.0    1.0   1.0  \n",
       "2    0.8    2.0    1.0   2.0  \n",
       "3    0.3    1.0    1.0   1.0  \n",
       "4    0.6    1.0    1.0   1.0  "
      ]
     },
     "execution_count": 213,
     "metadata": {},
     "output_type": "execute_result"
    }
   ],
   "source": [
    "basic_health_table.head()"
   ]
  },
  {
   "cell_type": "markdown",
   "id": "aa892abe-60a0-4bd0-b66a-9db672dc7aa8",
   "metadata": {},
   "source": [
    "## 행정구역별 성별 인구수 데이터 불러오기"
   ]
  },
  {
   "cell_type": "code",
   "execution_count": 290,
   "id": "40dd663d-0de7-47f4-8cd0-ff773a4d4554",
   "metadata": {},
   "outputs": [],
   "source": [
    "def to_tidy_dataset(untidy_dataset: pd.DataFrame) -> pd.DataFrame:\n",
    "    \"\"\"\n",
    "    KOSIS에서 제공하는 시계열 데이터셋과 같은 형식의 untidy 데이터를 tidy 데이터로 바꿔 반환\n",
    "    데이터프레임의 형태가 동일하고 컬럼명만 다르다면 컬럼명만 수정하여 재사용 가능\n",
    "    \"\"\" \n",
    "    tidy_dataset = untidy_dataset.set_index('행정구역(시군구)별').T.rename_axis(None, axis=1).\\\n",
    "                    reset_index().assign(Year = lambda df: df['index'].\\\n",
    "                    apply(lambda year: int(year[:year.find('.')]) if year.find('.') != -1 else int(year))).\\\n",
    "                    drop('index', axis=1).set_index(['Year', '행정구역(시군구)별']).\\\n",
    "                    applymap(lambda value: int(value)).\\\n",
    "                    stack().unstack(1).reset_index().rename_axis(None, axis=1).\\\n",
    "                    rename(columns={'level_1':'Region_Name', '남자인구수 (명)':'Male_Population', '여자인구수 (명)':'Female_Population', '총인구수 (명)':'Total_Population'})\n",
    "    \n",
    "    return tidy_dataset"
   ]
  },
  {
   "cell_type": "code",
   "execution_count": 304,
   "id": "e1de1217-164f-4cf4-9304-9ed07a50cdcf",
   "metadata": {},
   "outputs": [],
   "source": [
    "def get_population_dataframe() -> pd.DataFrame:\n",
    "    \"\"\"\n",
    "    행정구역_시군구별_성별_인구수.csv 파일을 불러온 후 tidy dataframe으로 변환한 후 전처리를 거치고 반환하는 함수\n",
    "    \n",
    "    *--- 전처리 ---*\n",
    "    데이터프레임에 기본키이자 외래키인 시도코드 변수를 추가하고 시도이름 변수는 drop\n",
    "    \n",
    "    *--- Data Path ---*\n",
    "    .(current directory)\n",
    "    |--- Data\n",
    "        |--- 행정구역_시군구별_성별_인구수.csv\n",
    "    \"\"\"\n",
    "    df = pd.read_csv('./Data/행정구역_시군구별_성별_인구수.csv', encoding='euc-kr')\n",
    "    df = to_tidy_dataset(df)\n",
    "    df['Region_Code'] = df['Region_Name'].apply(lambda x: region_table.query(f'Region_Name == @x')['Region_Code'].item()) ## 시도코드 생성\n",
    "    df = df.drop('Region_Name', axis=1) ## Region table에서 확인 가능하므로 drop\n",
    "    df = df[['Year', 'Region_Code', 'Male_Population', 'Female_Population', 'Total_Population']] ## 기본키는 (연도, 시도코드), 외래키는 시도코드\n",
    "    return df"
   ]
  },
  {
   "cell_type": "code",
   "execution_count": 302,
   "id": "b339a8c8-c95c-4524-8bc1-73cceaf32afc",
   "metadata": {},
   "outputs": [],
   "source": [
    "df2 = get_population_dataframe()"
   ]
  },
  {
   "cell_type": "code",
   "execution_count": 303,
   "id": "9902bbbb-c4f6-4b10-87ea-a27961aea67e",
   "metadata": {},
   "outputs": [
    {
     "data": {
      "text/html": [
       "<div>\n",
       "<style scoped>\n",
       "    .dataframe tbody tr th:only-of-type {\n",
       "        vertical-align: middle;\n",
       "    }\n",
       "\n",
       "    .dataframe tbody tr th {\n",
       "        vertical-align: top;\n",
       "    }\n",
       "\n",
       "    .dataframe thead th {\n",
       "        text-align: right;\n",
       "    }\n",
       "</style>\n",
       "<table border=\"1\" class=\"dataframe\">\n",
       "  <thead>\n",
       "    <tr style=\"text-align: right;\">\n",
       "      <th></th>\n",
       "      <th>Year</th>\n",
       "      <th>Region_Code</th>\n",
       "      <th>Male_Population</th>\n",
       "      <th>Female_Population</th>\n",
       "      <th>Total_Population</th>\n",
       "    </tr>\n",
       "  </thead>\n",
       "  <tbody>\n",
       "    <tr>\n",
       "      <th>0</th>\n",
       "      <td>2018</td>\n",
       "      <td>0</td>\n",
       "      <td>25866129</td>\n",
       "      <td>25959930</td>\n",
       "      <td>51826059</td>\n",
       "    </tr>\n",
       "    <tr>\n",
       "      <th>1</th>\n",
       "      <td>2018</td>\n",
       "      <td>11</td>\n",
       "      <td>4773899</td>\n",
       "      <td>4991724</td>\n",
       "      <td>9765623</td>\n",
       "    </tr>\n",
       "    <tr>\n",
       "      <th>2</th>\n",
       "      <td>2018</td>\n",
       "      <td>26</td>\n",
       "      <td>1692421</td>\n",
       "      <td>1749032</td>\n",
       "      <td>3441453</td>\n",
       "    </tr>\n",
       "    <tr>\n",
       "      <th>3</th>\n",
       "      <td>2018</td>\n",
       "      <td>27</td>\n",
       "      <td>1219342</td>\n",
       "      <td>1242427</td>\n",
       "      <td>2461769</td>\n",
       "    </tr>\n",
       "    <tr>\n",
       "      <th>4</th>\n",
       "      <td>2018</td>\n",
       "      <td>28</td>\n",
       "      <td>1481844</td>\n",
       "      <td>1472798</td>\n",
       "      <td>2954642</td>\n",
       "    </tr>\n",
       "  </tbody>\n",
       "</table>\n",
       "</div>"
      ],
      "text/plain": [
       "   Year  Region_Code  Male_Population  Female_Population  Total_Population\n",
       "0  2018            0         25866129           25959930          51826059\n",
       "1  2018           11          4773899            4991724           9765623\n",
       "2  2018           26          1692421            1749032           3441453\n",
       "3  2018           27          1219342            1242427           2461769\n",
       "4  2018           28          1481844            1472798           2954642"
      ]
     },
     "execution_count": 303,
     "metadata": {},
     "output_type": "execute_result"
    }
   ],
   "source": [
    "df2.head()"
   ]
  },
  {
   "cell_type": "markdown",
   "id": "db512051-1a39-4bf7-a948-74bec0302670",
   "metadata": {},
   "source": [
    "## 시군구별 의원 데이터 불러오기"
   ]
  },
  {
   "cell_type": "markdown",
   "id": "7f92e76e-a45b-4df3-8ad8-417c391d17ad",
   "metadata": {},
   "source": [
    "`-` 이 데이터를 쓸지말지 고민이다\n",
    "\n",
    "`-` 일단은 넘어가겠다"
   ]
  },
  {
   "cell_type": "markdown",
   "id": "fcb48879-4015-45df-a533-a0cf46219c44",
   "metadata": {},
   "source": [
    "## DB 생성 및 데이터 업로드"
   ]
  },
  {
   "cell_type": "markdown",
   "id": "876173f2-797e-473d-8abc-ffbccaa34d4a",
   "metadata": {},
   "source": [
    "- 변수이름 영문으로 변경"
   ]
  },
  {
   "cell_type": "markdown",
   "id": "b4c1149c-303b-4af1-8f9a-8ff696812919",
   "metadata": {},
   "source": [
    "`-` 혹시 모를 error를 위해 테이블의 컬러명을 모두 영문으로 바꾸겠다"
   ]
  },
  {
   "cell_type": "code",
   "execution_count": 325,
   "id": "58af0684-793d-45db-99c5-b806e2c0b3a7",
   "metadata": {},
   "outputs": [],
   "source": [
    "def rename_columns_to_english(df_list: pd.DataFrame) -> None:\n",
    "    \"\"\"컬럼명을 영문으로 바꿔주는 함수(원본이 변한다)\"\"\"\n",
    "    name_dict = {'기준년도':'Year',\n",
    "                 '가입자일련번호':'IDV_ID',\n",
    "                 '성별코드':'Sex',\n",
    "                 '연령대코드(5세단위)':'Age_Group',\n",
    "                 '시도코드':'Region_Code',\n",
    "                 '신장(5Cm단위)':'Height',\n",
    "                 '체중(5Kg단위)':'Weight',\n",
    "                 '허리둘레':'Waist',\n",
    "                 '시력(좌)':'Sight_Left',\n",
    "                 '시력(우)':'Sight_Right',\n",
    "                 '청력(좌)':'Hear_Left',\n",
    "                 '청력(우)':'Hear_Right',\n",
    "                 '수축기혈압':'BP_High',\n",
    "                 '이완기혈압':'BP_Low',\n",
    "                 '식전혈당(공복혈당)':'BLDS',\n",
    "                 '총콜레스테롤':'Total_Cholesterol',\n",
    "                 '트리글리세라이드':'Triglyceride',\n",
    "                 'HDL콜레스테롤':'HDL_Cholesterol',\n",
    "                 'LDL콜레스테롤':'LDL_Cholesterol',\n",
    "                 '혈색소':'Hemoglobin',\n",
    "                 '요단백':'Proteinuria',\n",
    "                 '혈청크레아티닌':'Serum_Creatinine',\n",
    "                 '(혈청지오티)AST':'SGOT_AST',\n",
    "                 '(혈청지오티)ALT':'SGOT_ALT',\n",
    "                 '감마지티피':'Gamma_GTP',\n",
    "                 '흡연상태':'Smoking_Type',\n",
    "                 '음주여부':'Alcohol_YN',\n",
    "                 '구강검진수검여부':'Dental_Inspec_YN',\n",
    "                 '치아우식증유무':'CRS_YN',\n",
    "                 '치석':'Tartar_YN'}\n",
    "     \n",
    "    for df in df_list:\n",
    "        df.rename(columns=name_dict, inplace=True)"
   ]
  },
  {
   "cell_type": "code",
   "execution_count": 326,
   "id": "468953fb-51b4-4c93-a65d-bad862717a0c",
   "metadata": {},
   "outputs": [],
   "source": [
    "rename_columns_to_english([tooth_table,\n",
    "                           alcohol_table,\n",
    "                           cholesterol_table,\n",
    "                           blood_pressure_sugar_table,\n",
    "                           basic_health_table])"
   ]
  },
  {
   "cell_type": "markdown",
   "id": "42f7f772-fb43-4366-900d-f48b1a9e70c0",
   "metadata": {},
   "source": [
    "- DB 생성"
   ]
  },
  {
   "cell_type": "code",
   "execution_count": 400,
   "id": "27ff3a27-37a1-4cf4-a4e7-5220fcd5983c",
   "metadata": {},
   "outputs": [],
   "source": [
    "## ./Data 폴더에 MedicalCheckup 데이터베이스를 생성하고 연결\n",
    "conn = sqlite3.connect('./MedicalCheckup.db', isolation_level=None)"
   ]
  },
  {
   "cell_type": "code",
   "execution_count": 401,
   "id": "e2c508d7-1ae2-41cd-83f3-107d24c2d2b1",
   "metadata": {},
   "outputs": [],
   "source": [
    "## 커서 생성\n",
    "cur = conn.cursor()"
   ]
  },
  {
   "cell_type": "markdown",
   "id": "84e3e595-646f-4dd9-8ace-8f706a102f83",
   "metadata": {},
   "source": [
    "- region table 생성"
   ]
  },
  {
   "cell_type": "code",
   "execution_count": 402,
   "id": "efbfc343-dfc3-4634-ada8-c43dae595987",
   "metadata": {},
   "outputs": [
    {
     "data": {
      "text/plain": [
       "<sqlite3.Cursor at 0x1b592b8d6c0>"
      ]
     },
     "execution_count": 402,
     "metadata": {},
     "output_type": "execute_result"
    }
   ],
   "source": [
    "## Region 테이블 생성하기\n",
    "sql = \"\"\"CREATE TABLE IF NOT EXISTS Region  \n",
    "        (\n",
    "        Region_Code TEXT NOT NULL, \n",
    "        Region_Name TEXT NOT NULL,\n",
    "        PRIMARY KEY (Region_Code)\n",
    "        )\n",
    "        \"\"\"\n",
    "\n",
    "cur.execute(sql)"
   ]
  },
  {
   "cell_type": "code",
   "execution_count": 403,
   "id": "430d4b88-ef68-49e8-ab65-da2f77085900",
   "metadata": {},
   "outputs": [],
   "source": [
    "# sql = 'DROP TABLE Region' ## table 삭제\n",
    "# cur.execute(sql)"
   ]
  },
  {
   "cell_type": "markdown",
   "id": "d52eed22-8165-48d2-a3d5-721c6cf3106e",
   "metadata": {},
   "source": [
    "- basic health table 생성"
   ]
  },
  {
   "cell_type": "code",
   "execution_count": 409,
   "id": "e503219c-a4a3-49ca-885d-10a8ed6ca353",
   "metadata": {},
   "outputs": [
    {
     "data": {
      "text/plain": [
       "<sqlite3.Cursor at 0x1b592b8d6c0>"
      ]
     },
     "execution_count": 409,
     "metadata": {},
     "output_type": "execute_result"
    }
   ],
   "source": [
    "## Basic_Health 테이블 생성하기\n",
    "sql = \"\"\"CREATE TABLE IF NOT EXISTS Basic_Health  \n",
    "        (\n",
    "        IDV_ID INTEGER NOT NULL, \n",
    "        Year INTEGER NOT NULL,\n",
    "        Sex INTEGER NOT NULL,\n",
    "        Age_Group INTEGER NOT NULL,\n",
    "        Region_Code INTEGER NOT NULL,\n",
    "        Height INTEGER NOT NULL,\n",
    "        Weight INTEGER NOT NULL,\n",
    "        Waist REAL,\n",
    "        Sight_Left REAL,\n",
    "        Sight_Right REAL,\n",
    "        Hear_Left REAL,\n",
    "        Hear_Right REAL,\n",
    "        Smoking_Type INTEGER,\n",
    "        PRIMARY KEY (IDV_ID),\n",
    "        FOREIGN KEY (Region_Code) REFERENCES Region (Region_Code) \n",
    "        )\n",
    "        \"\"\"\n",
    "\n",
    "cur.execute(sql)"
   ]
  },
  {
   "cell_type": "code",
   "execution_count": 408,
   "id": "9094196a-f76a-4d50-9edc-1dd4644f7b20",
   "metadata": {},
   "outputs": [],
   "source": [
    "# sql = 'DROP TABLE Basic_Health' ## table 삭제\n",
    "# cur.execute(sql)"
   ]
  },
  {
   "cell_type": "markdown",
   "id": "a7e5432b-bf78-4043-a63f-ba4dc58cfef9",
   "metadata": {},
   "source": [
    "- tooth table 생성"
   ]
  },
  {
   "cell_type": "code",
   "execution_count": 406,
   "id": "5706452a-6a0b-4a0b-8b36-494166d81a38",
   "metadata": {},
   "outputs": [
    {
     "data": {
      "text/plain": [
       "<sqlite3.Cursor at 0x1b592b8d6c0>"
      ]
     },
     "execution_count": 406,
     "metadata": {},
     "output_type": "execute_result"
    }
   ],
   "source": [
    "## Tooth 테이블 생성하기\n",
    "sql = \"\"\"CREATE TABLE IF NOT EXISTS Tooth  \n",
    "        (\n",
    "        IDV_ID INTEGER NOT NULL, \n",
    "        CRS_YN INTEGER,\n",
    "        Tartar_YN INTEGER,\n",
    "        PRIMARY KEY (IDV_ID),\n",
    "        FOREIGN KEY (IDV_ID) REFERENCES Basic_Health (IDV_ID) \n",
    "        )\n",
    "        \"\"\"\n",
    "\n",
    "cur.execute(sql)"
   ]
  },
  {
   "cell_type": "code",
   "execution_count": 407,
   "id": "ecb5981f-f243-4dd7-940c-126bb7139f30",
   "metadata": {},
   "outputs": [],
   "source": [
    "# sql = 'DROP TABLE Tooth' ## table 삭제\n",
    "# cur.execute(sql)"
   ]
  },
  {
   "cell_type": "markdown",
   "id": "fa667dee-5f04-4383-85b4-efc757e38496",
   "metadata": {},
   "source": [
    "- alcohol table 생성"
   ]
  },
  {
   "cell_type": "code",
   "execution_count": 417,
   "id": "e96027eb-6086-44e7-af23-4e7b3d603065",
   "metadata": {},
   "outputs": [
    {
     "data": {
      "text/plain": [
       "<sqlite3.Cursor at 0x1b592b8d6c0>"
      ]
     },
     "execution_count": 417,
     "metadata": {},
     "output_type": "execute_result"
    }
   ],
   "source": [
    "## Alcohol 테이블 생성하기\n",
    "sql = \"\"\"CREATE TABLE IF NOT EXISTS Alcohol  \n",
    "        (\n",
    "        IDV_ID INTEGER NOT NULL, \n",
    "        Alcohol_YN INTEGER NOT NULL,\n",
    "        PRIMARY KEY (IDV_ID),\n",
    "        FOREIGN KEY (IDV_ID) REFERENCES Basic_Health (IDV_ID) \n",
    "        )\n",
    "        \"\"\"\n",
    "\n",
    "cur.execute(sql)"
   ]
  },
  {
   "cell_type": "code",
   "execution_count": 418,
   "id": "f2066145-0109-4897-a842-56cefd6c5a83",
   "metadata": {},
   "outputs": [],
   "source": [
    "# sql = 'DROP TABLE Alcohol' ## table 삭제\n",
    "# cur.execute(sql)"
   ]
  },
  {
   "cell_type": "markdown",
   "id": "64c927ef-5956-4688-9d3c-419f24a10ad0",
   "metadata": {},
   "source": [
    "- cholesterol table 생성"
   ]
  },
  {
   "cell_type": "code",
   "execution_count": 422,
   "id": "ff846763-e54a-43f8-b41c-70d097e29175",
   "metadata": {},
   "outputs": [
    {
     "data": {
      "text/plain": [
       "<sqlite3.Cursor at 0x1b592b8d6c0>"
      ]
     },
     "execution_count": 422,
     "metadata": {},
     "output_type": "execute_result"
    }
   ],
   "source": [
    "## Cholesterol 테이블 생성하기\n",
    "sql = \"\"\"CREATE TABLE IF NOT EXISTS Cholesterol \n",
    "        (\n",
    "        IDV_ID INTEGER NOT NULL, \n",
    "        Total_Cholesterol REAL,\n",
    "        Triglyceride REAL,\n",
    "        HDL_Cholesterol REAL,\n",
    "        LDL_Cholesterol REAL,\n",
    "        PRIMARY KEY (IDV_ID),\n",
    "        FOREIGN KEY (IDV_ID) REFERENCES Basic_Health (IDV_ID) \n",
    "        )\n",
    "        \"\"\"\n",
    "\n",
    "cur.execute(sql)"
   ]
  },
  {
   "cell_type": "code",
   "execution_count": 423,
   "id": "ac2b1a5f-32aa-4ed6-8f09-41ce0c0169aa",
   "metadata": {},
   "outputs": [],
   "source": [
    "# sql = 'DROP TABLE Cholesterol' ## table 삭제\n",
    "# cur.execute(sql)"
   ]
  },
  {
   "cell_type": "markdown",
   "id": "c04ccf65-d6fc-4098-a6e0-3bcbc527d6b4",
   "metadata": {},
   "source": [
    "- blood pressure and sugar table 생성"
   ]
  },
  {
   "cell_type": "code",
   "execution_count": 424,
   "id": "70705703-1a86-412f-b1f6-bd05ce2aefe8",
   "metadata": {},
   "outputs": [
    {
     "data": {
      "text/plain": [
       "<sqlite3.Cursor at 0x1b592b8d6c0>"
      ]
     },
     "execution_count": 424,
     "metadata": {},
     "output_type": "execute_result"
    }
   ],
   "source": [
    "## Blood_Pressure_Sugar 테이블 생성하기\n",
    "sql = \"\"\"CREATE TABLE IF NOT EXISTS Blood_Pressure_Sugar \n",
    "        (\n",
    "        IDV_ID INTEGER NOT NULL, \n",
    "        BP_High INTEGER,\n",
    "        BP_Low INTEGER,\n",
    "        BLDS INTEGER,\n",
    "        Serum_Creatinine REAL,\n",
    "        SGOT_AST INTEGER,\n",
    "        SGOT_ALT INTEGER,\n",
    "        PRIMARY KEY (IDV_ID),\n",
    "        FOREIGN KEY (IDV_ID) REFERENCES Basic_Health (IDV_ID) \n",
    "        )\n",
    "        \"\"\"\n",
    "\n",
    "cur.execute(sql)"
   ]
  },
  {
   "cell_type": "code",
   "execution_count": 425,
   "id": "c7cda0b2-2382-4d36-aff7-3d6aa41a3126",
   "metadata": {},
   "outputs": [],
   "source": [
    "# sql = 'DROP TABLE Blood_Pressure_Sugar' ## table 삭제\n",
    "# cur.execute(sql)"
   ]
  },
  {
   "cell_type": "markdown",
   "id": "e0fc431d-d96c-4f73-a082-40e448f22388",
   "metadata": {},
   "source": [
    "- population table 생성"
   ]
  },
  {
   "cell_type": "code",
   "execution_count": 428,
   "id": "baa47363-065e-4f4f-a1f2-49eb8032c645",
   "metadata": {},
   "outputs": [
    {
     "data": {
      "text/plain": [
       "<sqlite3.Cursor at 0x1b592b8d6c0>"
      ]
     },
     "execution_count": 428,
     "metadata": {},
     "output_type": "execute_result"
    }
   ],
   "source": [
    "## Population 테이블 생성하기\n",
    "sql = \"\"\"CREATE TABLE IF NOT EXISTS Population\n",
    "        (\n",
    "        Year INTEGER NOT NULL, \n",
    "        Region_Code INTEGER NOT NULL, \n",
    "        Male_Population INTEGER NOT NULL,\n",
    "        Female_Population INTEGER NOT NULL,\n",
    "        Total_Population INTEGER NOT NULL,\n",
    "        PRIMARY KEY (Year, Region_Code)\n",
    "        )\n",
    "        \"\"\"\n",
    "\n",
    "cur.execute(sql)"
   ]
  },
  {
   "cell_type": "code",
   "execution_count": 429,
   "id": "d42aa83f-5b0a-4b45-913f-ae4d1717a7dd",
   "metadata": {},
   "outputs": [],
   "source": [
    "# sql = 'DROP TABLE Population' ## table 삭제\n",
    "# cur.execute(sql)"
   ]
  },
  {
   "cell_type": "markdown",
   "id": "c3a209f2-8ca3-420d-a275-e41aefb833e6",
   "metadata": {},
   "source": [
    "- 테이블 업로드"
   ]
  },
  {
   "cell_type": "code",
   "execution_count": null,
   "id": "f1b126d8-b74d-400a-aa98-5e1770525cce",
   "metadata": {},
   "outputs": [],
   "source": []
  }
 ],
 "metadata": {
  "kernelspec": {
   "display_name": "Python 3 (ipykernel)",
   "language": "python",
   "name": "python3"
  },
  "language_info": {
   "codemirror_mode": {
    "name": "ipython",
    "version": 3
   },
   "file_extension": ".py",
   "mimetype": "text/x-python",
   "name": "python",
   "nbconvert_exporter": "python",
   "pygments_lexer": "ipython3",
   "version": "3.8.11"
  }
 },
 "nbformat": 4,
 "nbformat_minor": 5
}

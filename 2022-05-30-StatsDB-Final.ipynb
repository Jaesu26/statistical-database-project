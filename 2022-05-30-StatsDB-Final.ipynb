{
 "cells": [
  {
   "cell_type": "markdown",
   "id": "b4b0d75a-cf72-46fe-be6d-5d24299de40c",
   "metadata": {},
   "source": [
    "# Final Project"
   ]
  },
  {
   "cell_type": "markdown",
   "id": "6f132008-4c81-42cd-b80f-0fc310fbe699",
   "metadata": {},
   "source": [
    "## problem"
   ]
  },
  {
   "cell_type": "markdown",
   "id": "eedae98f-00f6-462b-bf86-d71634ebd93d",
   "metadata": {},
   "source": [
    "`-` 자신이 어떤 회사를 운영하거나 회사의 데이터 관리자라고 가정해보자 (예를 들어, 온라인 쇼핑몰을 운영하거나 데이터 분석 컨설팅 업체를 설립한다고 생각해볼 수 있겠다).  \n",
    "\n",
    "`-` 회사의 데이터를 관리 및 활용하는 관점에서 데이터베이스를 설계하고, 필요한 데이터 분석 정보를 생성하는 Project를 수행하시오.\n",
    "\n",
    "`-` 보고서에는 다음과 같은 사항이 포함되어야 합니다.\n",
    "\n",
    "1. 필요한 데이터 항목, 데이터로부터 얻어야 되는 정보\n",
    "\n",
    "2. 데이터베이스 구조 (테이블 수 및 테이블들간의 관계)\n",
    "\n",
    "3. 데이터 업로드 과정 (데이터 import 과정, SQL 문장 등)\n",
    "\n",
    "4. 데이터베이스에 업로드된 데이터 요약 (요약 통계량, 표/그래프 활용)\n",
    "\n",
    "5. 필요한 정보를 얻기 위한 데이터 분석 (데이터 분석 기법 활용)\n",
    "\n",
    "6. 결론 및 프로젝트 수행 소감\n",
    "\n",
    "`-` Project 보고서는 1개의 파일로 만들어 첨부하시오. \n",
    "\n",
    "`-` R, Python code는 보고서에 부록으로 넣으시오.\n",
    "\n",
    "`-` 보고서 발표 및 제출 마감일 : 2022. 6. 14(화) 22:00"
   ]
  },
  {
   "cell_type": "markdown",
   "id": "44598ef4-7fb9-449d-b411-012c6621baab",
   "metadata": {},
   "source": [
    "## 할 것 정리"
   ]
  },
  {
   "cell_type": "markdown",
   "id": "d7f4bfa9-cc52-42c0-a972-35b041ff3fee",
   "metadata": {},
   "source": [
    "`-` 국민건강검진 데이터를 바탕으로 국민들의 건강을 check하고 건강 향상을 위한 정책이 필요한지를 판단하자\n",
    "\n",
    "`-` 전체 백만개 행에서 만개만 사용하겠다(표본이 전체를 잘 대표할 것이다)\n",
    "\n",
    "`-` 예컨대 흡연율이 증가하고 있다면 원인 파악은 주어진 데이터로는 모르겠지만 건강을 위해 금연 정책을 할 수는 있음\n",
    "\n",
    "`-` 만약 흡연율이 감소하고 있다면 금연 정책에 들이는 노력을 다른 곳에 사용할지 고려할 수 있다\n",
    "\n",
    "`-` 흡연율이 그대로라면 현재 시행하고 있는 금연 정책이 실효성이 있는지 파악해야 한다(흡연율이 왜 증가하는지 파악해야 함)"
   ]
  },
  {
   "cell_type": "markdown",
   "id": "66054aef-ba2e-44a4-a538-39df5165c290",
   "metadata": {},
   "source": [
    "- 필요한 데이터 항목과 데이터로부터 얻어야 되는 정보"
   ]
  },
  {
   "cell_type": "markdown",
   "id": "a12e3cff-43b0-4228-bf41-70a91d44bde1",
   "metadata": {},
   "source": [
    "`-` 국민건강검진 데이터와 인구수와 병원수 데이터가 필요하다\n",
    "\n",
    "`-` 데이터로부터 고혈압이나 당뇨 등의 비율을 알 수 있다\n",
    "\n",
    "`-` 최근 3개년인 2018년~2020년 까지의 데이터는 일단 DB로 만들고 필요한 컬럼만 뽑아서 사용하자\n",
    "\n",
    "`-` 예컨대 연도별 흡연율의 변화"
   ]
  },
  {
   "cell_type": "markdown",
   "id": "f6a57eac-ec04-44c5-b2d2-2d2e05018d9d",
   "metadata": {},
   "source": [
    "`-` 2018~2020년 인구수 데이터 링크: https://kosis.kr/statHtml/statHtml.do?orgId=101&tblId=DT_1B040A3"
   ]
  },
  {
   "cell_type": "markdown",
   "id": "31420193-ace9-4bad-9995-004e0aca8f55",
   "metadata": {},
   "source": [
    "- 데이터베이스 구조 (테이블 수 및 테이블들간의 관계)\n",
    "\n",
    "`-` 결측치가 많은 데이터끼리 모아 테이블을 만든다\n",
    "\n",
    "`-` 나머지 컬럼에 대해서는 성격상 비슷한 것끼리 묶는다(내과, 안과 등)\n",
    "\n",
    "`-` 테이블의 관계는 외래키를 통해 설명"
   ]
  },
  {
   "cell_type": "markdown",
   "id": "11274b66-37e9-48d9-8e7d-5273f49fc06f",
   "metadata": {},
   "source": [
    "- 나머지 part는 그냥 하면 된다"
   ]
  },
  {
   "cell_type": "markdown",
   "id": "29b0faee-8725-42f1-b609-7fdc0d9deaa9",
   "metadata": {},
   "source": [
    "## 패키지 import"
   ]
  },
  {
   "cell_type": "code",
   "execution_count": 1,
   "id": "7366c049-2b27-4b1f-ae52-d8325ba3e352",
   "metadata": {},
   "outputs": [],
   "source": [
    "import os\n",
    "import time\n",
    "import sqlite3\n",
    "import pandas as pd\n",
    "import numpy as np\n",
    "import matplotlib.pyplot as plt\n",
    "import seaborn as sns"
   ]
  },
  {
   "cell_type": "code",
   "execution_count": 2,
   "id": "2defecc3-15a9-4ae2-8c18-9ee8d26f651f",
   "metadata": {},
   "outputs": [
    {
     "data": {
      "text/plain": [
       "'C:\\\\Users\\\\Jaesu\\\\github_desktop\\\\statistical-database-project'"
      ]
     },
     "execution_count": 2,
     "metadata": {},
     "output_type": "execute_result"
    }
   ],
   "source": [
    "os.getcwd()"
   ]
  },
  {
   "cell_type": "markdown",
   "id": "2faf71d2-edec-41e7-bd8f-bf74a15e63cc",
   "metadata": {},
   "source": [
    "## NHIS 데이터 불러오기"
   ]
  },
  {
   "cell_type": "markdown",
   "id": "8b9d44bf-51cd-4681-a582-0a4d7103e074",
   "metadata": {},
   "source": [
    "`-` 국민건강검진 데이터는 2018~2020년의 데이터를 하나의 파일로 묶겠다\n",
    "\n",
    "`-` 결손치 유무, 제3대구치(사랑니) 이상, 치아마모증유무 변수는 2020년 데이터에는 존재하지 않는다\n",
    "\n",
    "`-` 구강검진 수검여부 변수는 유용하지 않다(예컨대 치석 변수가 NA가 아니라면 당연히 구강검진을 수검했음)\n",
    "\n",
    "`-` 또한, 2018년과 2019년 데이터에서도 컬럼만 존재하지 미시행하였기 때문에 drop 하겠다\n",
    "\n",
    "`-` 가입자 일련번호를 1~3000000으로 set 해주고 데이터 공개일자 변수는 기준년도 변수가 있으므로 drop 하겠다"
   ]
  },
  {
   "cell_type": "code",
   "execution_count": 3,
   "id": "7fc0d793-4a3d-4b6b-b2b6-d6899f8bbe59",
   "metadata": {},
   "outputs": [],
   "source": [
    "def remove_space(df: pd.DataFrame) -> pd.DataFrame:\n",
    "    \"\"\"컬럼명에 포함된 공백을 제거한 데이터프레임을 반환하는 함수\"\"\"\n",
    "    df = df.rename(columns = dict(zip(df.columns, [column.replace(' ', '') for column in df.columns]))) \n",
    "    return df"
   ]
  },
  {
   "cell_type": "code",
   "execution_count": 4,
   "id": "2255358d-830a-4166-ab87-8b93e94cbe66",
   "metadata": {},
   "outputs": [],
   "source": [
    "def get_NHIS_dataframe() -> pd.DataFrame:\n",
    "    \"\"\"\n",
    "    NHIS_2018 ~ NHIS_2020 csv 파일을 불러온 후 간단한 전처리를 수행하고 merge 하여 반환하는 함수\n",
    "    \n",
    "    *--- 전처리 ---*\n",
    "    1. NHIS_2019 데이터에 중복행이 있어 이를 제거\n",
    "    2. csv 파일의 컬럼명을 서로 동일하게 해주기 위해 각 csv 파일의 컬럼명에 있는 공백을 제거\n",
    "    \n",
    "    *--- Data Path ---*\n",
    "    .(current directory)\n",
    "    |--- Data\n",
    "        |--- NHIS_OPEN_GJ_2018.csv\n",
    "        |--- NHIS_OPEN_GJ_2019.csv\n",
    "        |--- NHIS_OPEN_GJ_2020.csv\n",
    "    \"\"\"\n",
    "    df = pd.concat([\n",
    "                    remove_space(pd.read_csv('./Data/NHIS_OPEN_GJ_2018.csv', encoding='euc=kr')), ## 2018년\n",
    "\n",
    "                    remove_space(pd.read_csv('./Data/NHIS_OPEN_GJ_2019.csv', encoding='euc=kr', on_bad_lines='skip').\n",
    "                                    drop_duplicates(). ## 중복행 제거\n",
    "                                    assign(**{'가입자 일련번호': lambda df: df['가입자 일련번호'] + 1000000})), ## 2019년도는 일련번호 1000001부터 시작\n",
    "                    \n",
    "                    remove_space(pd.read_csv('./Data/NHIS_OPEN_GJ_2020.csv', encoding='euc=kr').\n",
    "                                    assign(**{'가입자 일련번호': lambda df: df['가입자 일련번호'] + 2000000})) ## 2020년도는 일련번호 2000001부터 시작\n",
    "                   ]).reset_index().drop('index', axis=1)\n",
    "    return df"
   ]
  },
  {
   "cell_type": "code",
   "execution_count": 5,
   "id": "4f1dd0b5-14bf-454f-a9dd-49f6c074c428",
   "metadata": {},
   "outputs": [],
   "source": [
    "_df = get_NHIS_dataframe() ## 행이 3백만개라 시간이 조금 걸린다"
   ]
  },
  {
   "cell_type": "markdown",
   "id": "c30b3b8e-ddce-44ac-8c5c-eac0c7ee987e",
   "metadata": {},
   "source": [
    "- 데이터프레임의 간단한 정보"
   ]
  },
  {
   "cell_type": "code",
   "execution_count": 6,
   "id": "70dfeabd-227f-4025-8e5b-82c5146fd708",
   "metadata": {},
   "outputs": [
    {
     "name": "stdout",
     "output_type": "stream",
     "text": [
      "<class 'pandas.core.frame.DataFrame'>\n",
      "RangeIndex: 3000000 entries, 0 to 2999999\n",
      "Data columns (total 34 columns):\n",
      " #   Column        Dtype  \n",
      "---  ------        -----  \n",
      " 0   기준년도          int64  \n",
      " 1   가입자일련번호       int64  \n",
      " 2   성별코드          int64  \n",
      " 3   연령대코드(5세단위)   int64  \n",
      " 4   시도코드          int64  \n",
      " 5   신장(5Cm단위)     int64  \n",
      " 6   체중(5Kg단위)     int64  \n",
      " 7   허리둘레          float64\n",
      " 8   시력(좌)         float64\n",
      " 9   시력(우)         float64\n",
      " 10  청력(좌)         float64\n",
      " 11  청력(우)         float64\n",
      " 12  수축기혈압         float64\n",
      " 13  이완기혈압         float64\n",
      " 14  식전혈당(공복혈당)    float64\n",
      " 15  총콜레스테롤        float64\n",
      " 16  트리글리세라이드      float64\n",
      " 17  HDL콜레스테롤      float64\n",
      " 18  LDL콜레스테롤      float64\n",
      " 19  혈색소           float64\n",
      " 20  요단백           float64\n",
      " 21  혈청크레아티닌       float64\n",
      " 22  (혈청지오티)AST    float64\n",
      " 23  (혈청지오티)ALT    float64\n",
      " 24  감마지티피         float64\n",
      " 25  흡연상태          float64\n",
      " 26  음주여부          object \n",
      " 27  구강검진수검여부      object \n",
      " 28  치아우식증유무       float64\n",
      " 29  결손치유무         object \n",
      " 30  치아마모증유무       object \n",
      " 31  제3대구치(사랑니)이상  object \n",
      " 32  치석            object \n",
      " 33  데이터공개일자       object \n",
      "dtypes: float64(20), int64(7), object(7)\n",
      "memory usage: 778.2+ MB\n"
     ]
    }
   ],
   "source": [
    "_df.info()"
   ]
  },
  {
   "cell_type": "markdown",
   "id": "c9620bf1-7b1f-4e28-b7cb-95ce0f8eb4f4",
   "metadata": {},
   "source": [
    "- 결측치"
   ]
  },
  {
   "cell_type": "code",
   "execution_count": 7,
   "id": "7167bd2d-aab8-4e9e-b0d1-d82e8ad7258a",
   "metadata": {},
   "outputs": [
    {
     "data": {
      "text/plain": [
       "기준년도                  0\n",
       "가입자일련번호               0\n",
       "성별코드                  0\n",
       "연령대코드(5세단위)           0\n",
       "시도코드                  0\n",
       "신장(5Cm단위)             0\n",
       "체중(5Kg단위)             0\n",
       "허리둘레                925\n",
       "시력(좌)               705\n",
       "시력(우)               706\n",
       "청력(좌)               620\n",
       "청력(우)               625\n",
       "수축기혈압             18686\n",
       "이완기혈압             18689\n",
       "식전혈당(공복혈당)        19040\n",
       "총콜레스테롤          1931389\n",
       "트리글리세라이드        1931386\n",
       "HDL콜레스테롤        1931398\n",
       "LDL콜레스테롤        1952503\n",
       "혈색소               19057\n",
       "요단백               33017\n",
       "혈청크레아티닌           19034\n",
       "(혈청지오티)AST        19029\n",
       "(혈청지오티)ALT        19031\n",
       "감마지티피             19042\n",
       "흡연상태                743\n",
       "음주여부             710221\n",
       "구강검진수검여부              0\n",
       "치아우식증유무         1870945\n",
       "결손치유무           2000000\n",
       "치아마모증유무         2000000\n",
       "제3대구치(사랑니)이상    2000000\n",
       "치석              1893308\n",
       "데이터공개일자               0\n",
       "dtype: int64"
      ]
     },
     "execution_count": 7,
     "metadata": {},
     "output_type": "execute_result"
    }
   ],
   "source": [
    "_df.isnull().sum()"
   ]
  },
  {
   "cell_type": "markdown",
   "id": "2b0a2464-2b5d-434c-bbb8-daa9ca38e15c",
   "metadata": {},
   "source": [
    "- 전처리"
   ]
  },
  {
   "cell_type": "markdown",
   "id": "f44d194e-4f72-44ef-bf75-4da84898b3c0",
   "metadata": {},
   "source": [
    "`-` 각 년도마다 10000개씩만 무작위로 추출하겠다"
   ]
  },
  {
   "cell_type": "code",
   "execution_count": 8,
   "id": "9e67c115-dce9-49b0-91e3-72bb75dab362",
   "metadata": {},
   "outputs": [],
   "source": [
    "def sampling_df(df_: pd.DataFrame, n: int) -> pd.DataFrame:\n",
    "    \"\"\"\n",
    "    각 년도마다 무작위로 n개 row 추출 -> 총 3n개\n",
    "    \"\"\"\n",
    "    df = df_.copy()\n",
    "    df = pd.concat([df.query('기준년도 == @year').sample(n=n, replace=False, random_state=22) for year in range(2018, 2021)])\n",
    "    df = df.sort_values(by=['가입자일련번호'])\n",
    "    df = df.reset_index().drop('index', axis=1)\n",
    "    return df"
   ]
  },
  {
   "cell_type": "code",
   "execution_count": 9,
   "id": "a7f3a315-2508-4626-8585-da2620ad83e3",
   "metadata": {},
   "outputs": [],
   "source": [
    "df = sampling_df(_df, n=3333) ## 거의 10000개 행 추출"
   ]
  },
  {
   "cell_type": "markdown",
   "id": "6edf058f-7a01-4207-ae7f-f9ab8ddf6d00",
   "metadata": {},
   "source": [
    "`-` 위에서 언급했듯이 결손치 유무, 제3대구치(사랑니) 이상, 치아마모증유무, 데이터 공개일자 변수는 drop 하겠다"
   ]
  },
  {
   "cell_type": "code",
   "execution_count": 10,
   "id": "d2ba6a44-e03f-420d-b7dd-39ad4b177832",
   "metadata": {},
   "outputs": [],
   "source": [
    "def drop_columns(df: pd.DataFrame) -> pd.DataFrame:\n",
    "    \"\"\"\n",
    "    drop_columns 목록에 존재하는 변수를 drop한 데이터프레임을 반환하는 함수(원본이 변한다)\n",
    "    \"\"\"\n",
    "    drop_columns = ['결손치유무', '제3대구치(사랑니)이상', '치아마모증유무', '데이터공개일자', '구강검진수검여부']\n",
    "    for col in drop_columns:\n",
    "        try:\n",
    "            df = df.drop([col], axis=1)        \n",
    "        except:\n",
    "            pass\n",
    "    return df"
   ]
  },
  {
   "cell_type": "code",
   "execution_count": 11,
   "id": "507eef2d-f65c-43da-be18-548bb01e7ce3",
   "metadata": {},
   "outputs": [],
   "source": [
    "df = drop_columns(df) "
   ]
  },
  {
   "cell_type": "markdown",
   "id": "563067d9-19a9-4cb4-8525-973756528b2f",
   "metadata": {},
   "source": [
    "`-` 음주 여부, 치석변수는 unique한 값으로 `0, 1, 'Y', 'N'` 를 가지는데 편의상 `'Y' -> 1`로 `'N' -> 0`으로 바꿔주겠다"
   ]
  },
  {
   "cell_type": "code",
   "execution_count": 12,
   "id": "08871ce1-cab5-4587-8ccc-ffe48cd49177",
   "metadata": {},
   "outputs": [],
   "source": [
    "def bool2int(df: pd.DataFrame) -> pd.DataFrame:\n",
    "    \"\"\"변수가 가지는 값에서 'Y' -> 1, 'N' -> 0으로 mapping하고 해당 데이터프레임을 반환(원본이 변한다)\"\"\"\n",
    "    columns = ['음주여부', '치석']\n",
    "    for col in columns:\n",
    "        df[col] = df[col].map({'Y':1, 'N':0, 1:1, 0:0})\n",
    "    return df"
   ]
  },
  {
   "cell_type": "code",
   "execution_count": 13,
   "id": "7b928bc0-15f5-441c-9940-35fc53ea0948",
   "metadata": {},
   "outputs": [],
   "source": [
    "df = bool2int(df)"
   ]
  },
  {
   "cell_type": "markdown",
   "id": "aa624751-77af-4856-b462-6da5151a6e93",
   "metadata": {},
   "source": [
    "- 테이블 나누기(MedicalCheckup)\n",
    "\n",
    "`-` 전처리가 끝난 csv 파일은 db로 올려야 한다!!!(물론 테이블을 나누고)\n",
    "\n",
    "`-` 각 테이블에는 `기본키`가 있어야 하는데 `기본키는 일련번호`를 사용할 것이다\n",
    "\n",
    "`-` `시도코드`와 `시도이름` 속성을 갖는 `Region` 테이블을 만들겠다(`시도코드 -> 기본키`)\n",
    "\n",
    "`-` 결측치가 많은 컬럼은 `총콜레스테롤, 트리글리세라이드, HDL콜레스테롤, LDL콜레스테롤, 치아우식증유무, 치석, 음주여부`이다\n",
    "\n",
    "`-` 컬럼의 속성을 콜레스테롤과 치아(Tooth)와 음주(Alcohol)로 나누어 테이블을 3개 만들겠다(음주는 애매하긴 한데 일단 독립적으로 만들겠다)\n",
    "\n",
    "`-` `수축기혈압, 이완기혈압, 식전혈당(공복혈당)`을 `Blood_Pressure_Sugar` 테이블로 만들겠다\n",
    "\n",
    "`-` `요단백, 혈색소, 감마지티피, 혈청크레아티닌, (혈청지오티)AST, (혈청지오티)ALT`을 ` Enzyme` 테이블로 만들겠다\n",
    "\n",
    "`-` 나머지에 해당하는 `기준년도, 가입자일련번호, 성별코드, 연령대코드(5세단위), 시도코드, 신장(5Cm단위), 체중(5Kg단위), 허리둘레, 시력(좌), 시력(우), 청력(좌), 청력(우), 흡연상태`를 하나의 테이블로 만들겠다\n",
    "\n",
    "`-` 여기서 `가입자일련번호 -> 기본키`, `시도코드 -> 외래키` 이다"
   ]
  },
  {
   "cell_type": "markdown",
   "id": "2385cd9d-fae3-483e-8092-f91baff0db9c",
   "metadata": {},
   "source": [
    "`-` 컬럼의 type을 변경해주겠다(`ex: 1.0 -> 1`)"
   ]
  },
  {
   "cell_type": "code",
   "execution_count": 14,
   "id": "cac375a3-4c25-4a19-a06d-2a284f8d1a0e",
   "metadata": {},
   "outputs": [],
   "source": [
    "def change_column_type(df: pd.DataFrame) -> pd.DataFrame:\n",
    "    \"\"\"\n",
    "    변수 type을 변환한 데이터프레임을 반환하는 함수(원본이 변한다)\n",
    "    또한, 결측치(NA)는 -1로 코딩하겠다\n",
    "    \"\"\"\n",
    "    ## np.int64 -> np.int16\n",
    "    int_columns = list(set(df.columns[df.dtypes == np.int64]) - {'가입자일련번호'})\n",
    "    df['가입자일련번호'] = df['가입자일련번호'].astype(np.int32) ## 가입자일련번호 값은 int8 범위를 초과한다\n",
    "    for col in int_columns:\n",
    "        df[col] = df[col].fillna(-1) ## int형으로 변환을 위해 NA를 -1로 변환\n",
    "        df[col] = df[col].astype(np.int16) ## int형으로 변환\n",
    "    \n",
    "    ## float (0.0, 1.0, ... n.0) -> np.int8 (0, 1, ..., n)\n",
    "    YN_columns = ['음주여부', '치아우식증유무', '치석',\n",
    "                  '요단백', '흡연상태', '청력(좌)', '청력(우)'] \n",
    "    for col in YN_columns:\n",
    "        df[col] = df[col].fillna(-1) ## NA를 -1로 변환\n",
    "        df[col] = df[col].astype(np.int8) \n",
    "    \n",
    "    ## float -> np.int16 (ex: 154.0 -> 154)\n",
    "    float_columns = [\n",
    "                     '식전혈당(공복혈당)', '수축기혈압', '이완기혈압',\n",
    "                     '총콜레스테롤', '트리글리세라이드', 'HDL콜레스테롤', 'LDL콜레스테롤',\n",
    "                     '(혈청지오티)AST', '(혈청지오티)ALT' \n",
    "                    ]\n",
    "    \n",
    "    for col in float_columns:\n",
    "        df[col] = df[col].fillna(-1) ## NA를 -1로 임시 변환\n",
    "        df[col] = df[col].astype(np.int16) \n",
    "        \n",
    "    ## float64 -> float16\n",
    "    float64_columns = df.columns[df.dtypes == np.float64]\n",
    "    for col in float64_columns:\n",
    "        df[col] = df[col].fillna(-1) ## NA를 -1로 변환\n",
    "        df[col] = df[col].astype(np.float16) \n",
    "\n",
    "    ## int -> category \n",
    "    df['시도코드'] = df['시도코드'].astype('category')\n",
    "    \n",
    "    return df"
   ]
  },
  {
   "cell_type": "code",
   "execution_count": 15,
   "id": "b4f79e9e-b090-4015-aaca-3b0fbe9b28ab",
   "metadata": {},
   "outputs": [],
   "source": [
    "# df = change_column_type(df) ## 시간이 조금 걸린다, 어파치 다시 csv파일로 저장하면 초기화돼서 안함"
   ]
  },
  {
   "cell_type": "markdown",
   "id": "c1eef967-7ce8-48c6-9df3-61e847e62713",
   "metadata": {},
   "source": [
    "- Region table"
   ]
  },
  {
   "cell_type": "code",
   "execution_count": 16,
   "id": "ecd1219d-90c4-4c81-be32-9c8eb84a01dc",
   "metadata": {},
   "outputs": [],
   "source": [
    "def get_region_table() -> pd.DataFrame:\n",
    "    df = pd.DataFrame({'Region_Code':[0, 11, 42, 26, 43, 27, 44, 28, 45, 29, 46, 30, 47, 31, 48, 36, 49, 41],\n",
    "                       'Region_Name':['전국', '서울특별시', '강원도', '부산광역시', '충청북도', '대구광역시', '충청남도',\n",
    "                                      '인천광역시', '전라북도', '광주광역시', '전라남도', '대전광역시', '경상북도',\n",
    "                                      '울산광역시', '경상남도', '세종특별자치시', '제주특별자치도', '경기도']})\n",
    "    return df"
   ]
  },
  {
   "cell_type": "code",
   "execution_count": 17,
   "id": "638cfed3-98dc-475b-9906-a627ab1c0157",
   "metadata": {},
   "outputs": [],
   "source": [
    "region_table = get_region_table()"
   ]
  },
  {
   "cell_type": "markdown",
   "id": "c78bdbef-63b2-40e5-bf32-6c661e3731a4",
   "metadata": {},
   "source": [
    "- Tooth table"
   ]
  },
  {
   "cell_type": "markdown",
   "id": "a47f5ddc-bed5-4e9c-b878-45eb9756f846",
   "metadata": {},
   "source": [
    "`-` 치석 변수와 치아우식증유무 변수 중 하나라도 NA가 아닌 데이터로 table을 구성하겠다"
   ]
  },
  {
   "cell_type": "code",
   "execution_count": 18,
   "id": "d11a51c2-dc70-4beb-89f0-9881f95c381a",
   "metadata": {},
   "outputs": [],
   "source": [
    "def get_tooth_table(df: pd.DataFrame) -> pd.DataFrame:\n",
    "    \"\"\"치아우식증 유무 변수와 치석 변수 둘다 NA가 아닌 행만 추출하고 table 구성\"\"\"\n",
    "    df_ = df.copy()\n",
    "    df_ = df_.loc[(df_['치아우식증유무'].isnull()) & (df_['치석'].isnull()) == False, ['가입자일련번호', '치아우식증유무', '치석']] ## 가입자일련번호는 기본키\n",
    "    df_ = df_.reset_index().drop('index', axis=1)\n",
    "    return df_"
   ]
  },
  {
   "cell_type": "code",
   "execution_count": 19,
   "id": "18f79cb4-1e4d-40de-b33b-661f7ecdf56e",
   "metadata": {},
   "outputs": [],
   "source": [
    "tooth_table = get_tooth_table(df)"
   ]
  },
  {
   "cell_type": "code",
   "execution_count": 20,
   "id": "ffb9d7d2-c40c-4795-9ed2-0eb6ad71de02",
   "metadata": {},
   "outputs": [
    {
     "data": {
      "text/plain": [
       "(3832, 3)"
      ]
     },
     "execution_count": 20,
     "metadata": {},
     "output_type": "execute_result"
    }
   ],
   "source": [
    "tooth_table.shape"
   ]
  },
  {
   "cell_type": "code",
   "execution_count": 21,
   "id": "8c813e4f-e8d7-4440-a722-916ec2f24a71",
   "metadata": {},
   "outputs": [
    {
     "data": {
      "text/html": [
       "<div>\n",
       "<style scoped>\n",
       "    .dataframe tbody tr th:only-of-type {\n",
       "        vertical-align: middle;\n",
       "    }\n",
       "\n",
       "    .dataframe tbody tr th {\n",
       "        vertical-align: top;\n",
       "    }\n",
       "\n",
       "    .dataframe thead th {\n",
       "        text-align: right;\n",
       "    }\n",
       "</style>\n",
       "<table border=\"1\" class=\"dataframe\">\n",
       "  <thead>\n",
       "    <tr style=\"text-align: right;\">\n",
       "      <th></th>\n",
       "      <th>가입자일련번호</th>\n",
       "      <th>치아우식증유무</th>\n",
       "      <th>치석</th>\n",
       "    </tr>\n",
       "  </thead>\n",
       "  <tbody>\n",
       "    <tr>\n",
       "      <th>0</th>\n",
       "      <td>1168</td>\n",
       "      <td>0.0</td>\n",
       "      <td>1.0</td>\n",
       "    </tr>\n",
       "    <tr>\n",
       "      <th>1</th>\n",
       "      <td>1436</td>\n",
       "      <td>0.0</td>\n",
       "      <td>1.0</td>\n",
       "    </tr>\n",
       "    <tr>\n",
       "      <th>2</th>\n",
       "      <td>3177</td>\n",
       "      <td>0.0</td>\n",
       "      <td>1.0</td>\n",
       "    </tr>\n",
       "    <tr>\n",
       "      <th>3</th>\n",
       "      <td>3529</td>\n",
       "      <td>0.0</td>\n",
       "      <td>1.0</td>\n",
       "    </tr>\n",
       "    <tr>\n",
       "      <th>4</th>\n",
       "      <td>4362</td>\n",
       "      <td>0.0</td>\n",
       "      <td>1.0</td>\n",
       "    </tr>\n",
       "  </tbody>\n",
       "</table>\n",
       "</div>"
      ],
      "text/plain": [
       "   가입자일련번호  치아우식증유무   치석\n",
       "0     1168      0.0  1.0\n",
       "1     1436      0.0  1.0\n",
       "2     3177      0.0  1.0\n",
       "3     3529      0.0  1.0\n",
       "4     4362      0.0  1.0"
      ]
     },
     "execution_count": 21,
     "metadata": {},
     "output_type": "execute_result"
    }
   ],
   "source": [
    "tooth_table.head()"
   ]
  },
  {
   "cell_type": "markdown",
   "id": "4ed9ef9c-bc9c-4f3d-94f0-45be1c74a2f7",
   "metadata": {},
   "source": [
    "- Alcohol table"
   ]
  },
  {
   "cell_type": "code",
   "execution_count": 22,
   "id": "131005fb-ca06-4e92-a1f1-82d29fd220a9",
   "metadata": {},
   "outputs": [],
   "source": [
    "def get_alcohol_table(df: pd.DataFrame) -> pd.DataFrame:\n",
    "    \"\"\"음주여부 변수가 NA가 아닌 행만 추출하고 table 구성\"\"\"\n",
    "    df_ = df.copy()\n",
    "    df_ = df_.loc[(df_['음주여부'].isnull()) == False, ['가입자일련번호', '음주여부']] ## 가입자일련번호는 기본키\n",
    "    df_ = df_.reset_index().drop('index', axis=1)\n",
    "    return df_"
   ]
  },
  {
   "cell_type": "code",
   "execution_count": 23,
   "id": "80dc7c5c-28aa-4b11-9372-5fb0dbca4d5c",
   "metadata": {},
   "outputs": [],
   "source": [
    "alcohol_table = get_alcohol_table(df)"
   ]
  },
  {
   "cell_type": "code",
   "execution_count": 24,
   "id": "12370611-ac95-4e1f-8ebc-0217f4aec983",
   "metadata": {},
   "outputs": [
    {
     "data": {
      "text/plain": [
       "(7680, 2)"
      ]
     },
     "execution_count": 24,
     "metadata": {},
     "output_type": "execute_result"
    }
   ],
   "source": [
    "alcohol_table.shape"
   ]
  },
  {
   "cell_type": "code",
   "execution_count": 25,
   "id": "ab6aa670-4f3a-42fd-9080-f15cd025d25b",
   "metadata": {},
   "outputs": [
    {
     "data": {
      "text/html": [
       "<div>\n",
       "<style scoped>\n",
       "    .dataframe tbody tr th:only-of-type {\n",
       "        vertical-align: middle;\n",
       "    }\n",
       "\n",
       "    .dataframe tbody tr th {\n",
       "        vertical-align: top;\n",
       "    }\n",
       "\n",
       "    .dataframe thead th {\n",
       "        text-align: right;\n",
       "    }\n",
       "</style>\n",
       "<table border=\"1\" class=\"dataframe\">\n",
       "  <thead>\n",
       "    <tr style=\"text-align: right;\">\n",
       "      <th></th>\n",
       "      <th>가입자일련번호</th>\n",
       "      <th>음주여부</th>\n",
       "    </tr>\n",
       "  </thead>\n",
       "  <tbody>\n",
       "    <tr>\n",
       "      <th>0</th>\n",
       "      <td>120</td>\n",
       "      <td>1.0</td>\n",
       "    </tr>\n",
       "    <tr>\n",
       "      <th>1</th>\n",
       "      <td>126</td>\n",
       "      <td>1.0</td>\n",
       "    </tr>\n",
       "    <tr>\n",
       "      <th>2</th>\n",
       "      <td>624</td>\n",
       "      <td>1.0</td>\n",
       "    </tr>\n",
       "    <tr>\n",
       "      <th>3</th>\n",
       "      <td>915</td>\n",
       "      <td>1.0</td>\n",
       "    </tr>\n",
       "    <tr>\n",
       "      <th>4</th>\n",
       "      <td>1168</td>\n",
       "      <td>1.0</td>\n",
       "    </tr>\n",
       "  </tbody>\n",
       "</table>\n",
       "</div>"
      ],
      "text/plain": [
       "   가입자일련번호  음주여부\n",
       "0      120   1.0\n",
       "1      126   1.0\n",
       "2      624   1.0\n",
       "3      915   1.0\n",
       "4     1168   1.0"
      ]
     },
     "execution_count": 25,
     "metadata": {},
     "output_type": "execute_result"
    }
   ],
   "source": [
    "alcohol_table.head()"
   ]
  },
  {
   "cell_type": "markdown",
   "id": "a1b7f5e9-d1e2-4761-8894-0faa3c092fd3",
   "metadata": {},
   "source": [
    "- Cholesterol table"
   ]
  },
  {
   "cell_type": "code",
   "execution_count": 26,
   "id": "835cb931-f802-468b-aa24-a54f939a74d6",
   "metadata": {},
   "outputs": [],
   "source": [
    "def get_cholesterol_table(df: pd.DataFrame) -> pd.DataFrame:\n",
    "    \"\"\"\n",
    "    가입자일련번호, 총콜레스테롤, 트리글리세라이드, HDL콜레스테롤, LDL콜레스테롤 변수로 table 구성\n",
    "    \"\"\"\n",
    "    columns = ['총콜레스테롤', '트리글리세라이드', 'HDL콜레스테롤', 'LDL콜레스테롤']\n",
    "    df_ = df.copy()\n",
    "    df_ = df_.dropna(how='all', subset=columns) ## columns가 모두 NA인 행은 drop\n",
    "    df_ = df_[['가입자일련번호'] + columns] ## 가입자일련번호는 기본키\n",
    "    df_ = df_.reset_index().drop('index', axis=1)\n",
    "    return df_"
   ]
  },
  {
   "cell_type": "code",
   "execution_count": 27,
   "id": "5f9ba407-4ad0-4faa-9f11-1d1a775c5b7c",
   "metadata": {},
   "outputs": [],
   "source": [
    "cholesterol_table = get_cholesterol_table(df)"
   ]
  },
  {
   "cell_type": "code",
   "execution_count": 28,
   "id": "08793999-b092-47c1-bf5c-a93c718d541a",
   "metadata": {},
   "outputs": [
    {
     "data": {
      "text/plain": [
       "(3614, 5)"
      ]
     },
     "execution_count": 28,
     "metadata": {},
     "output_type": "execute_result"
    }
   ],
   "source": [
    "cholesterol_table.shape"
   ]
  },
  {
   "cell_type": "code",
   "execution_count": 29,
   "id": "1322c1dc-b932-41cc-9b83-9fd8498c26b0",
   "metadata": {},
   "outputs": [
    {
     "data": {
      "text/html": [
       "<div>\n",
       "<style scoped>\n",
       "    .dataframe tbody tr th:only-of-type {\n",
       "        vertical-align: middle;\n",
       "    }\n",
       "\n",
       "    .dataframe tbody tr th {\n",
       "        vertical-align: top;\n",
       "    }\n",
       "\n",
       "    .dataframe thead th {\n",
       "        text-align: right;\n",
       "    }\n",
       "</style>\n",
       "<table border=\"1\" class=\"dataframe\">\n",
       "  <thead>\n",
       "    <tr style=\"text-align: right;\">\n",
       "      <th></th>\n",
       "      <th>가입자일련번호</th>\n",
       "      <th>총콜레스테롤</th>\n",
       "      <th>트리글리세라이드</th>\n",
       "      <th>HDL콜레스테롤</th>\n",
       "      <th>LDL콜레스테롤</th>\n",
       "    </tr>\n",
       "  </thead>\n",
       "  <tbody>\n",
       "    <tr>\n",
       "      <th>0</th>\n",
       "      <td>126</td>\n",
       "      <td>212.0</td>\n",
       "      <td>235.0</td>\n",
       "      <td>65.0</td>\n",
       "      <td>100.0</td>\n",
       "    </tr>\n",
       "    <tr>\n",
       "      <th>1</th>\n",
       "      <td>624</td>\n",
       "      <td>212.0</td>\n",
       "      <td>30.0</td>\n",
       "      <td>91.0</td>\n",
       "      <td>115.0</td>\n",
       "    </tr>\n",
       "    <tr>\n",
       "      <th>2</th>\n",
       "      <td>915</td>\n",
       "      <td>128.0</td>\n",
       "      <td>93.0</td>\n",
       "      <td>44.0</td>\n",
       "      <td>65.0</td>\n",
       "    </tr>\n",
       "    <tr>\n",
       "      <th>3</th>\n",
       "      <td>3177</td>\n",
       "      <td>153.0</td>\n",
       "      <td>206.0</td>\n",
       "      <td>38.0</td>\n",
       "      <td>74.0</td>\n",
       "    </tr>\n",
       "    <tr>\n",
       "      <th>4</th>\n",
       "      <td>4219</td>\n",
       "      <td>205.0</td>\n",
       "      <td>123.0</td>\n",
       "      <td>50.0</td>\n",
       "      <td>130.0</td>\n",
       "    </tr>\n",
       "  </tbody>\n",
       "</table>\n",
       "</div>"
      ],
      "text/plain": [
       "   가입자일련번호  총콜레스테롤  트리글리세라이드  HDL콜레스테롤  LDL콜레스테롤\n",
       "0      126   212.0     235.0      65.0     100.0\n",
       "1      624   212.0      30.0      91.0     115.0\n",
       "2      915   128.0      93.0      44.0      65.0\n",
       "3     3177   153.0     206.0      38.0      74.0\n",
       "4     4219   205.0     123.0      50.0     130.0"
      ]
     },
     "execution_count": 29,
     "metadata": {},
     "output_type": "execute_result"
    }
   ],
   "source": [
    "cholesterol_table.head()"
   ]
  },
  {
   "cell_type": "markdown",
   "id": "8ad9acd5-0c89-4361-93cd-f32bf3a5c8b5",
   "metadata": {},
   "source": [
    "- Blood Pressure and Sugar table"
   ]
  },
  {
   "cell_type": "code",
   "execution_count": 30,
   "id": "a73e260a-f410-47a1-a21e-2d6fa73f531d",
   "metadata": {},
   "outputs": [],
   "source": [
    "def get_blood_pressure_sugar_table(df: pd.DataFrame) -> pd.DataFrame:\n",
    "    \"\"\"\n",
    "    가입자일련번호, 수축기혈압, 이완기혈압, 식전혈당(공복혈당) 변수로 table 구성\n",
    "    \"\"\"\n",
    "    columns = ['수축기혈압', '이완기혈압', '식전혈당(공복혈당)'] \n",
    "    df_ = df.copy()\n",
    "    df_ = df_[['가입자일련번호'] + columns] ## 가입자일련번호는 기본키\n",
    "    return df_"
   ]
  },
  {
   "cell_type": "code",
   "execution_count": 31,
   "id": "9a8910ba-2443-47bc-a257-e823bf71deeb",
   "metadata": {},
   "outputs": [],
   "source": [
    "blood_pressure_sugar_table = get_blood_pressure_sugar_table(df)"
   ]
  },
  {
   "cell_type": "code",
   "execution_count": 32,
   "id": "3c9667ad-65d4-4150-ade4-2ffb3b2f96a6",
   "metadata": {},
   "outputs": [
    {
     "data": {
      "text/plain": [
       "(9999, 4)"
      ]
     },
     "execution_count": 32,
     "metadata": {},
     "output_type": "execute_result"
    }
   ],
   "source": [
    "blood_pressure_sugar_table.shape"
   ]
  },
  {
   "cell_type": "code",
   "execution_count": 33,
   "id": "43595c3a-cb78-4078-a0d3-0d6e72e7eab1",
   "metadata": {},
   "outputs": [
    {
     "data": {
      "text/html": [
       "<div>\n",
       "<style scoped>\n",
       "    .dataframe tbody tr th:only-of-type {\n",
       "        vertical-align: middle;\n",
       "    }\n",
       "\n",
       "    .dataframe tbody tr th {\n",
       "        vertical-align: top;\n",
       "    }\n",
       "\n",
       "    .dataframe thead th {\n",
       "        text-align: right;\n",
       "    }\n",
       "</style>\n",
       "<table border=\"1\" class=\"dataframe\">\n",
       "  <thead>\n",
       "    <tr style=\"text-align: right;\">\n",
       "      <th></th>\n",
       "      <th>가입자일련번호</th>\n",
       "      <th>수축기혈압</th>\n",
       "      <th>이완기혈압</th>\n",
       "      <th>식전혈당(공복혈당)</th>\n",
       "    </tr>\n",
       "  </thead>\n",
       "  <tbody>\n",
       "    <tr>\n",
       "      <th>0</th>\n",
       "      <td>120</td>\n",
       "      <td>120.0</td>\n",
       "      <td>80.0</td>\n",
       "      <td>91.0</td>\n",
       "    </tr>\n",
       "    <tr>\n",
       "      <th>1</th>\n",
       "      <td>126</td>\n",
       "      <td>130.0</td>\n",
       "      <td>90.0</td>\n",
       "      <td>99.0</td>\n",
       "    </tr>\n",
       "    <tr>\n",
       "      <th>2</th>\n",
       "      <td>624</td>\n",
       "      <td>108.0</td>\n",
       "      <td>66.0</td>\n",
       "      <td>71.0</td>\n",
       "    </tr>\n",
       "    <tr>\n",
       "      <th>3</th>\n",
       "      <td>749</td>\n",
       "      <td>100.0</td>\n",
       "      <td>60.0</td>\n",
       "      <td>90.0</td>\n",
       "    </tr>\n",
       "    <tr>\n",
       "      <th>4</th>\n",
       "      <td>915</td>\n",
       "      <td>126.0</td>\n",
       "      <td>89.0</td>\n",
       "      <td>156.0</td>\n",
       "    </tr>\n",
       "  </tbody>\n",
       "</table>\n",
       "</div>"
      ],
      "text/plain": [
       "   가입자일련번호  수축기혈압  이완기혈압  식전혈당(공복혈당)\n",
       "0      120  120.0   80.0        91.0\n",
       "1      126  130.0   90.0        99.0\n",
       "2      624  108.0   66.0        71.0\n",
       "3      749  100.0   60.0        90.0\n",
       "4      915  126.0   89.0       156.0"
      ]
     },
     "execution_count": 33,
     "metadata": {},
     "output_type": "execute_result"
    }
   ],
   "source": [
    "blood_pressure_sugar_table.head()"
   ]
  },
  {
   "cell_type": "markdown",
   "id": "dcebe617-8926-4e5f-baa3-92fd95fc548d",
   "metadata": {},
   "source": [
    "- Enzyme table"
   ]
  },
  {
   "cell_type": "code",
   "execution_count": 34,
   "id": "5a80f610-a434-48eb-97a0-09d5352913a9",
   "metadata": {},
   "outputs": [],
   "source": [
    "def get_Enzyme_table(df: pd.DataFrame) -> pd.DataFrame:\n",
    "    \"\"\"\n",
    "    혈색소, 요단백, 감마지티피, 혈청크레아티닌, (혈청지오티)AST, (혈청지오티)ALT 변수로 table 구성\n",
    "    \"\"\"\n",
    "    columns = ['혈색소', '요단백', '감마지티피', '혈청크레아티닌', '(혈청지오티)AST', '(혈청지오티)ALT'] \n",
    "    df_ = df.copy()\n",
    "    df_ = df_[['가입자일련번호'] + columns] ## 가입자일련번호는 기본키\n",
    "    return df_"
   ]
  },
  {
   "cell_type": "code",
   "execution_count": 35,
   "id": "72c744c5-a895-484d-9cbc-e1b92f1621e7",
   "metadata": {},
   "outputs": [],
   "source": [
    "enzyme_table = get_Enzyme_table(df)"
   ]
  },
  {
   "cell_type": "code",
   "execution_count": 36,
   "id": "940ab7bb-4ef6-4091-8f90-cdb70971520b",
   "metadata": {},
   "outputs": [
    {
     "data": {
      "text/plain": [
       "(9999, 7)"
      ]
     },
     "execution_count": 36,
     "metadata": {},
     "output_type": "execute_result"
    }
   ],
   "source": [
    "enzyme_table.shape"
   ]
  },
  {
   "cell_type": "code",
   "execution_count": 37,
   "id": "67ec5bc8-c4bd-4a6d-81de-7800e7e82cd3",
   "metadata": {},
   "outputs": [
    {
     "data": {
      "text/html": [
       "<div>\n",
       "<style scoped>\n",
       "    .dataframe tbody tr th:only-of-type {\n",
       "        vertical-align: middle;\n",
       "    }\n",
       "\n",
       "    .dataframe tbody tr th {\n",
       "        vertical-align: top;\n",
       "    }\n",
       "\n",
       "    .dataframe thead th {\n",
       "        text-align: right;\n",
       "    }\n",
       "</style>\n",
       "<table border=\"1\" class=\"dataframe\">\n",
       "  <thead>\n",
       "    <tr style=\"text-align: right;\">\n",
       "      <th></th>\n",
       "      <th>가입자일련번호</th>\n",
       "      <th>혈색소</th>\n",
       "      <th>요단백</th>\n",
       "      <th>감마지티피</th>\n",
       "      <th>혈청크레아티닌</th>\n",
       "      <th>(혈청지오티)AST</th>\n",
       "      <th>(혈청지오티)ALT</th>\n",
       "    </tr>\n",
       "  </thead>\n",
       "  <tbody>\n",
       "    <tr>\n",
       "      <th>0</th>\n",
       "      <td>120</td>\n",
       "      <td>14.7</td>\n",
       "      <td>1.0</td>\n",
       "      <td>39.0</td>\n",
       "      <td>1.1</td>\n",
       "      <td>34.0</td>\n",
       "      <td>18.0</td>\n",
       "    </tr>\n",
       "    <tr>\n",
       "      <th>1</th>\n",
       "      <td>126</td>\n",
       "      <td>12.8</td>\n",
       "      <td>1.0</td>\n",
       "      <td>30.0</td>\n",
       "      <td>0.7</td>\n",
       "      <td>21.0</td>\n",
       "      <td>22.0</td>\n",
       "    </tr>\n",
       "    <tr>\n",
       "      <th>2</th>\n",
       "      <td>624</td>\n",
       "      <td>14.0</td>\n",
       "      <td>1.0</td>\n",
       "      <td>58.0</td>\n",
       "      <td>0.8</td>\n",
       "      <td>64.0</td>\n",
       "      <td>57.0</td>\n",
       "    </tr>\n",
       "    <tr>\n",
       "      <th>3</th>\n",
       "      <td>749</td>\n",
       "      <td>13.6</td>\n",
       "      <td>1.0</td>\n",
       "      <td>29.0</td>\n",
       "      <td>0.6</td>\n",
       "      <td>28.0</td>\n",
       "      <td>28.0</td>\n",
       "    </tr>\n",
       "    <tr>\n",
       "      <th>4</th>\n",
       "      <td>915</td>\n",
       "      <td>15.5</td>\n",
       "      <td>1.0</td>\n",
       "      <td>33.0</td>\n",
       "      <td>0.9</td>\n",
       "      <td>25.0</td>\n",
       "      <td>20.0</td>\n",
       "    </tr>\n",
       "  </tbody>\n",
       "</table>\n",
       "</div>"
      ],
      "text/plain": [
       "   가입자일련번호   혈색소  요단백  감마지티피  혈청크레아티닌  (혈청지오티)AST  (혈청지오티)ALT\n",
       "0      120  14.7  1.0   39.0      1.1        34.0        18.0\n",
       "1      126  12.8  1.0   30.0      0.7        21.0        22.0\n",
       "2      624  14.0  1.0   58.0      0.8        64.0        57.0\n",
       "3      749  13.6  1.0   29.0      0.6        28.0        28.0\n",
       "4      915  15.5  1.0   33.0      0.9        25.0        20.0"
      ]
     },
     "execution_count": 37,
     "metadata": {},
     "output_type": "execute_result"
    }
   ],
   "source": [
    "enzyme_table.head()"
   ]
  },
  {
   "cell_type": "markdown",
   "id": "cbacdda5-b4a8-4b9d-958f-d1a032f65dfe",
   "metadata": {},
   "source": [
    "- Basic Health table"
   ]
  },
  {
   "cell_type": "code",
   "execution_count": 38,
   "id": "5a9e23b5-b9b4-4acf-9cd9-f31a23d552cb",
   "metadata": {},
   "outputs": [],
   "source": [
    "def get_basic_health_table(df: pd.DataFrame) -> pd.DataFrame:\n",
    "    \"\"\"\n",
    "    *--- columns --**\n",
    "    기준년도, 가입자일련번호, 성별코드, 연령대코드(5세단위),\n",
    "    시도코드, 신장(5Cm단위), 체중(5Kg단위), 허리둘레,\n",
    "    시력(좌), 시력(우), 청력(좌), 청력(우), 흡연상태\n",
    "    \n",
    "    위에 해당하는 변수들로 table 구성하고 반환\n",
    "    \"\"\"\n",
    "    columns = ['기준년도', '성별코드', '연령대코드(5세단위)',\n",
    "               '시도코드', '신장(5Cm단위)', '체중(5Kg단위)', '허리둘레',\n",
    "               '시력(좌)', '시력(우)', '청력(좌)', '청력(우)', '흡연상태']\n",
    "    \n",
    "    df_ = df.copy()\n",
    "    df_ = df_[['가입자일련번호'] + columns] ## 가입자일련번호는 기본키\n",
    "    return df_"
   ]
  },
  {
   "cell_type": "code",
   "execution_count": 39,
   "id": "c70c637c-5cf5-4354-bc7e-ca05d288f9c9",
   "metadata": {},
   "outputs": [],
   "source": [
    "basic_health_table = get_basic_health_table(df)"
   ]
  },
  {
   "cell_type": "code",
   "execution_count": 40,
   "id": "286e2f1b-a464-45e0-89f1-686434627ed7",
   "metadata": {},
   "outputs": [
    {
     "data": {
      "text/plain": [
       "(9999, 13)"
      ]
     },
     "execution_count": 40,
     "metadata": {},
     "output_type": "execute_result"
    }
   ],
   "source": [
    "basic_health_table.shape"
   ]
  },
  {
   "cell_type": "code",
   "execution_count": 41,
   "id": "609d1826-9f75-40c5-993b-b31eda5a5715",
   "metadata": {},
   "outputs": [
    {
     "data": {
      "text/html": [
       "<div>\n",
       "<style scoped>\n",
       "    .dataframe tbody tr th:only-of-type {\n",
       "        vertical-align: middle;\n",
       "    }\n",
       "\n",
       "    .dataframe tbody tr th {\n",
       "        vertical-align: top;\n",
       "    }\n",
       "\n",
       "    .dataframe thead th {\n",
       "        text-align: right;\n",
       "    }\n",
       "</style>\n",
       "<table border=\"1\" class=\"dataframe\">\n",
       "  <thead>\n",
       "    <tr style=\"text-align: right;\">\n",
       "      <th></th>\n",
       "      <th>가입자일련번호</th>\n",
       "      <th>기준년도</th>\n",
       "      <th>성별코드</th>\n",
       "      <th>연령대코드(5세단위)</th>\n",
       "      <th>시도코드</th>\n",
       "      <th>신장(5Cm단위)</th>\n",
       "      <th>체중(5Kg단위)</th>\n",
       "      <th>허리둘레</th>\n",
       "      <th>시력(좌)</th>\n",
       "      <th>시력(우)</th>\n",
       "      <th>청력(좌)</th>\n",
       "      <th>청력(우)</th>\n",
       "      <th>흡연상태</th>\n",
       "    </tr>\n",
       "  </thead>\n",
       "  <tbody>\n",
       "    <tr>\n",
       "      <th>0</th>\n",
       "      <td>120</td>\n",
       "      <td>2018</td>\n",
       "      <td>1</td>\n",
       "      <td>11</td>\n",
       "      <td>41</td>\n",
       "      <td>155</td>\n",
       "      <td>55</td>\n",
       "      <td>81.0</td>\n",
       "      <td>0.6</td>\n",
       "      <td>0.5</td>\n",
       "      <td>2.0</td>\n",
       "      <td>1.0</td>\n",
       "      <td>1.0</td>\n",
       "    </tr>\n",
       "    <tr>\n",
       "      <th>1</th>\n",
       "      <td>126</td>\n",
       "      <td>2018</td>\n",
       "      <td>1</td>\n",
       "      <td>10</td>\n",
       "      <td>45</td>\n",
       "      <td>170</td>\n",
       "      <td>75</td>\n",
       "      <td>88.0</td>\n",
       "      <td>1.5</td>\n",
       "      <td>1.5</td>\n",
       "      <td>1.0</td>\n",
       "      <td>1.0</td>\n",
       "      <td>3.0</td>\n",
       "    </tr>\n",
       "    <tr>\n",
       "      <th>2</th>\n",
       "      <td>624</td>\n",
       "      <td>2018</td>\n",
       "      <td>2</td>\n",
       "      <td>10</td>\n",
       "      <td>44</td>\n",
       "      <td>155</td>\n",
       "      <td>60</td>\n",
       "      <td>82.0</td>\n",
       "      <td>1.0</td>\n",
       "      <td>1.0</td>\n",
       "      <td>1.0</td>\n",
       "      <td>1.0</td>\n",
       "      <td>1.0</td>\n",
       "    </tr>\n",
       "    <tr>\n",
       "      <th>3</th>\n",
       "      <td>749</td>\n",
       "      <td>2018</td>\n",
       "      <td>2</td>\n",
       "      <td>14</td>\n",
       "      <td>48</td>\n",
       "      <td>150</td>\n",
       "      <td>55</td>\n",
       "      <td>83.0</td>\n",
       "      <td>0.7</td>\n",
       "      <td>1.0</td>\n",
       "      <td>1.0</td>\n",
       "      <td>1.0</td>\n",
       "      <td>3.0</td>\n",
       "    </tr>\n",
       "    <tr>\n",
       "      <th>4</th>\n",
       "      <td>915</td>\n",
       "      <td>2018</td>\n",
       "      <td>1</td>\n",
       "      <td>11</td>\n",
       "      <td>26</td>\n",
       "      <td>165</td>\n",
       "      <td>65</td>\n",
       "      <td>81.0</td>\n",
       "      <td>1.2</td>\n",
       "      <td>1.0</td>\n",
       "      <td>1.0</td>\n",
       "      <td>1.0</td>\n",
       "      <td>3.0</td>\n",
       "    </tr>\n",
       "  </tbody>\n",
       "</table>\n",
       "</div>"
      ],
      "text/plain": [
       "   가입자일련번호  기준년도  성별코드  연령대코드(5세단위)  시도코드  신장(5Cm단위)  체중(5Kg단위)  허리둘레  시력(좌)  \\\n",
       "0      120  2018     1           11    41        155         55  81.0    0.6   \n",
       "1      126  2018     1           10    45        170         75  88.0    1.5   \n",
       "2      624  2018     2           10    44        155         60  82.0    1.0   \n",
       "3      749  2018     2           14    48        150         55  83.0    0.7   \n",
       "4      915  2018     1           11    26        165         65  81.0    1.2   \n",
       "\n",
       "   시력(우)  청력(좌)  청력(우)  흡연상태  \n",
       "0    0.5    2.0    1.0   1.0  \n",
       "1    1.5    1.0    1.0   3.0  \n",
       "2    1.0    1.0    1.0   1.0  \n",
       "3    1.0    1.0    1.0   3.0  \n",
       "4    1.0    1.0    1.0   3.0  "
      ]
     },
     "execution_count": 41,
     "metadata": {},
     "output_type": "execute_result"
    }
   ],
   "source": [
    "basic_health_table.head()"
   ]
  },
  {
   "cell_type": "markdown",
   "id": "aa892abe-60a0-4bd0-b66a-9db672dc7aa8",
   "metadata": {},
   "source": [
    "## 행정구역별 성별 인구수 데이터 불러오기"
   ]
  },
  {
   "cell_type": "code",
   "execution_count": 42,
   "id": "40dd663d-0de7-47f4-8cd0-ff773a4d4554",
   "metadata": {},
   "outputs": [],
   "source": [
    "def to_tidy_dataset(untidy_dataset: pd.DataFrame) -> pd.DataFrame:\n",
    "    \"\"\"\n",
    "    KOSIS에서 제공하는 시계열 데이터셋과 같은 형식의 untidy 데이터를 tidy 데이터로 바꿔 반환\n",
    "    데이터프레임의 형태가 동일하고 컬럼명만 다르다면 컬럼명만 수정하여 재사용 가능\n",
    "    \"\"\" \n",
    "    tidy_dataset = untidy_dataset.set_index('행정구역(시군구)별').T.rename_axis(None, axis=1).\\\n",
    "                    reset_index().assign(Year = lambda df: df['index'].\\\n",
    "                    apply(lambda year: int(year[:year.find('.')]) if year.find('.') != -1 else int(year))).\\\n",
    "                    drop('index', axis=1).set_index(['Year', '행정구역(시군구)별']).\\\n",
    "                    applymap(lambda value: int(value)).\\\n",
    "                    stack().unstack(1).reset_index().rename_axis(None, axis=1).\\\n",
    "                    rename(columns={'level_1':'Region_Name', '남자인구수 (명)':'Male_Population', '여자인구수 (명)':'Female_Population', '총인구수 (명)':'Total_Population'})\n",
    "    \n",
    "    return tidy_dataset"
   ]
  },
  {
   "cell_type": "code",
   "execution_count": 43,
   "id": "e1de1217-164f-4cf4-9304-9ed07a50cdcf",
   "metadata": {},
   "outputs": [],
   "source": [
    "def get_population_dataframe() -> pd.DataFrame:\n",
    "    \"\"\"\n",
    "    행정구역_시군구별_성별_인구수.csv 파일을 불러온 후 tidy dataframe으로 변환한 후 전처리를 거치고 반환하는 함수\n",
    "    \n",
    "    *--- 전처리 ---*\n",
    "    데이터프레임에 기본키이자 외래키인 시도코드 변수를 추가하고 시도이름 변수는 drop\n",
    "    \n",
    "    *--- Data Path ---*\n",
    "    .(current directory)\n",
    "    |--- Data\n",
    "        |--- 행정구역_시군구별_성별_인구수.csv\n",
    "    \"\"\"\n",
    "    df = pd.read_csv('./Data/행정구역_시군구별_성별_인구수.csv', encoding='euc-kr')\n",
    "    df = to_tidy_dataset(df)\n",
    "    df['Region_Code'] = df['Region_Name'].apply(lambda x: region_table.query(f'Region_Name == @x')['Region_Code'].item()) ## 시도코드 생성\n",
    "    df = df.drop('Region_Name', axis=1) ## Region table에서 확인 가능하므로 drop\n",
    "    df = df[['Year', 'Region_Code', 'Male_Population', 'Female_Population', 'Total_Population']] ## 기본키는 (연도, 시도코드), 외래키는 시도코드\n",
    "    return df"
   ]
  },
  {
   "cell_type": "code",
   "execution_count": 44,
   "id": "b339a8c8-c95c-4524-8bc1-73cceaf32afc",
   "metadata": {},
   "outputs": [],
   "source": [
    "df2 = get_population_dataframe()"
   ]
  },
  {
   "cell_type": "code",
   "execution_count": 45,
   "id": "9902bbbb-c4f6-4b10-87ea-a27961aea67e",
   "metadata": {},
   "outputs": [
    {
     "data": {
      "text/html": [
       "<div>\n",
       "<style scoped>\n",
       "    .dataframe tbody tr th:only-of-type {\n",
       "        vertical-align: middle;\n",
       "    }\n",
       "\n",
       "    .dataframe tbody tr th {\n",
       "        vertical-align: top;\n",
       "    }\n",
       "\n",
       "    .dataframe thead th {\n",
       "        text-align: right;\n",
       "    }\n",
       "</style>\n",
       "<table border=\"1\" class=\"dataframe\">\n",
       "  <thead>\n",
       "    <tr style=\"text-align: right;\">\n",
       "      <th></th>\n",
       "      <th>Year</th>\n",
       "      <th>Region_Code</th>\n",
       "      <th>Male_Population</th>\n",
       "      <th>Female_Population</th>\n",
       "      <th>Total_Population</th>\n",
       "    </tr>\n",
       "  </thead>\n",
       "  <tbody>\n",
       "    <tr>\n",
       "      <th>0</th>\n",
       "      <td>2018</td>\n",
       "      <td>0</td>\n",
       "      <td>25866129</td>\n",
       "      <td>25959930</td>\n",
       "      <td>51826059</td>\n",
       "    </tr>\n",
       "    <tr>\n",
       "      <th>1</th>\n",
       "      <td>2018</td>\n",
       "      <td>11</td>\n",
       "      <td>4773899</td>\n",
       "      <td>4991724</td>\n",
       "      <td>9765623</td>\n",
       "    </tr>\n",
       "    <tr>\n",
       "      <th>2</th>\n",
       "      <td>2018</td>\n",
       "      <td>26</td>\n",
       "      <td>1692421</td>\n",
       "      <td>1749032</td>\n",
       "      <td>3441453</td>\n",
       "    </tr>\n",
       "    <tr>\n",
       "      <th>3</th>\n",
       "      <td>2018</td>\n",
       "      <td>27</td>\n",
       "      <td>1219342</td>\n",
       "      <td>1242427</td>\n",
       "      <td>2461769</td>\n",
       "    </tr>\n",
       "    <tr>\n",
       "      <th>4</th>\n",
       "      <td>2018</td>\n",
       "      <td>28</td>\n",
       "      <td>1481844</td>\n",
       "      <td>1472798</td>\n",
       "      <td>2954642</td>\n",
       "    </tr>\n",
       "  </tbody>\n",
       "</table>\n",
       "</div>"
      ],
      "text/plain": [
       "   Year  Region_Code  Male_Population  Female_Population  Total_Population\n",
       "0  2018            0         25866129           25959930          51826059\n",
       "1  2018           11          4773899            4991724           9765623\n",
       "2  2018           26          1692421            1749032           3441453\n",
       "3  2018           27          1219342            1242427           2461769\n",
       "4  2018           28          1481844            1472798           2954642"
      ]
     },
     "execution_count": 45,
     "metadata": {},
     "output_type": "execute_result"
    }
   ],
   "source": [
    "df2.head()"
   ]
  },
  {
   "cell_type": "markdown",
   "id": "db512051-1a39-4bf7-a948-74bec0302670",
   "metadata": {},
   "source": [
    "## 시군구별 의원 데이터 불러오기"
   ]
  },
  {
   "cell_type": "markdown",
   "id": "7f92e76e-a45b-4df3-8ad8-417c391d17ad",
   "metadata": {},
   "source": [
    "`-` 이 데이터를 쓸지말지 고민이다\n",
    "\n",
    "`-` 일단은 넘어가겠다"
   ]
  },
  {
   "cell_type": "markdown",
   "id": "fcb48879-4015-45df-a533-a0cf46219c44",
   "metadata": {},
   "source": [
    "## DB 생성 및 데이터 업로드"
   ]
  },
  {
   "cell_type": "markdown",
   "id": "876173f2-797e-473d-8abc-ffbccaa34d4a",
   "metadata": {},
   "source": [
    "- 변수이름 영문으로 변경"
   ]
  },
  {
   "cell_type": "markdown",
   "id": "b4c1149c-303b-4af1-8f9a-8ff696812919",
   "metadata": {},
   "source": [
    "`-` 혹시 모를 error를 위해 테이블의 컬러명을 모두 영문으로 바꾸겠다"
   ]
  },
  {
   "cell_type": "code",
   "execution_count": 46,
   "id": "58af0684-793d-45db-99c5-b806e2c0b3a7",
   "metadata": {},
   "outputs": [],
   "source": [
    "def rename_columns_to_english(df_list: pd.DataFrame) -> None:\n",
    "    \"\"\"컬럼명을 영문으로 바꿔주는 함수(원본이 변한다)\"\"\"\n",
    "    name_dict = {'기준년도':'Year',\n",
    "                 '가입자일련번호':'User_ID',\n",
    "                 '성별코드':'Sex',\n",
    "                 '연령대코드(5세단위)':'Age_Group',\n",
    "                 '시도코드':'Region_Code',\n",
    "                 '신장(5Cm단위)':'Height',\n",
    "                 '체중(5Kg단위)':'Weight',\n",
    "                 '허리둘레':'Waist',\n",
    "                 '시력(좌)':'Sight_Left',\n",
    "                 '시력(우)':'Sight_Right',\n",
    "                 '청력(좌)':'Hear_Left',\n",
    "                 '청력(우)':'Hear_Right',\n",
    "                 '수축기혈압':'BP_High',\n",
    "                 '이완기혈압':'BP_Low',\n",
    "                 '식전혈당(공복혈당)':'BLDS',\n",
    "                 '총콜레스테롤':'Total_Cholesterol',\n",
    "                 '트리글리세라이드':'Triglyceride',\n",
    "                 'HDL콜레스테롤':'HDL_Cholesterol',\n",
    "                 'LDL콜레스테롤':'LDL_Cholesterol',\n",
    "                 '혈색소':'Hemoglobin',\n",
    "                 '요단백':'Proteinuria',\n",
    "                 '혈청크레아티닌':'Serum_Creatinine',\n",
    "                 '(혈청지오티)AST':'SGOT_AST',\n",
    "                 '(혈청지오티)ALT':'SGOT_ALT',\n",
    "                 '감마지티피':'Gamma_GTP',\n",
    "                 '흡연상태':'Smoking_Type',\n",
    "                 '음주여부':'Alcohol_YN',\n",
    "                 '치아우식증유무':'CRS_YN',\n",
    "                 '치석':'Tartar_YN'}\n",
    "     \n",
    "    for df in df_list:\n",
    "        df.rename(columns=name_dict, inplace=True)"
   ]
  },
  {
   "cell_type": "code",
   "execution_count": 47,
   "id": "468953fb-51b4-4c93-a65d-bad862717a0c",
   "metadata": {},
   "outputs": [],
   "source": [
    "rename_columns_to_english([tooth_table,\n",
    "                           alcohol_table,\n",
    "                           cholesterol_table,\n",
    "                           blood_pressure_sugar_table,\n",
    "                           enzyme_table,\n",
    "                           basic_health_table])"
   ]
  },
  {
   "cell_type": "markdown",
   "id": "42f7f772-fb43-4366-900d-f48b1a9e70c0",
   "metadata": {},
   "source": [
    "- DB 생성 및 테이블 업로드"
   ]
  },
  {
   "cell_type": "code",
   "execution_count": 48,
   "id": "27ff3a27-37a1-4cf4-a4e7-5220fcd5983c",
   "metadata": {},
   "outputs": [],
   "source": [
    "## ./Data 폴더에 MedicalCheckup 데이터베이스를 생성하고 연결\n",
    "conn = sqlite3.connect('./Data/MedicalCheckup.db', isolation_level=None)"
   ]
  },
  {
   "cell_type": "code",
   "execution_count": 49,
   "id": "e2c508d7-1ae2-41cd-83f3-107d24c2d2b1",
   "metadata": {},
   "outputs": [],
   "source": [
    "## 커서 생성\n",
    "cur = conn.cursor()"
   ]
  },
  {
   "cell_type": "markdown",
   "id": "84e3e595-646f-4dd9-8ace-8f706a102f83",
   "metadata": {},
   "source": [
    "- region table 생성"
   ]
  },
  {
   "cell_type": "code",
   "execution_count": 50,
   "id": "efbfc343-dfc3-4634-ada8-c43dae595987",
   "metadata": {},
   "outputs": [
    {
     "data": {
      "text/plain": [
       "<sqlite3.Cursor at 0x189186860a0>"
      ]
     },
     "execution_count": 50,
     "metadata": {},
     "output_type": "execute_result"
    }
   ],
   "source": [
    "## Region 테이블 생성하기\n",
    "sql = \"\"\"CREATE TABLE IF NOT EXISTS Region  \n",
    "        (\n",
    "        Region_Code INTEGER NOT NULL, \n",
    "        Region_Name TEXT NOT NULL,\n",
    "        PRIMARY KEY (Region_Code)\n",
    "        )\n",
    "        \"\"\"\n",
    "\n",
    "cur.execute(sql)"
   ]
  },
  {
   "cell_type": "code",
   "execution_count": 69,
   "id": "430d4b88-ef68-49e8-ab65-da2f77085900",
   "metadata": {},
   "outputs": [],
   "source": [
    "# sql = 'DROP TABLE Region' ## table 삭제\n",
    "# cur.execute(sql)"
   ]
  },
  {
   "cell_type": "code",
   "execution_count": 51,
   "id": "a31bffe8-e796-40d0-898f-0dbe59cbc73d",
   "metadata": {},
   "outputs": [
    {
     "data": {
      "text/plain": [
       "18"
      ]
     },
     "execution_count": 51,
     "metadata": {},
     "output_type": "execute_result"
    }
   ],
   "source": [
    "region_table.to_sql('Region', conn, method='multi', if_exists='append', index=False)"
   ]
  },
  {
   "cell_type": "code",
   "execution_count": 52,
   "id": "7ed78682-1fde-480f-9651-6aa7d56e0274",
   "metadata": {},
   "outputs": [],
   "source": [
    "region_table.to_csv('./Data/Region.csv', index=False)"
   ]
  },
  {
   "cell_type": "markdown",
   "id": "d52eed22-8165-48d2-a3d5-721c6cf3106e",
   "metadata": {},
   "source": [
    "- basic health table 생성"
   ]
  },
  {
   "cell_type": "code",
   "execution_count": 53,
   "id": "e503219c-a4a3-49ca-885d-10a8ed6ca353",
   "metadata": {},
   "outputs": [
    {
     "data": {
      "text/plain": [
       "<sqlite3.Cursor at 0x189186860a0>"
      ]
     },
     "execution_count": 53,
     "metadata": {},
     "output_type": "execute_result"
    }
   ],
   "source": [
    "## Basic_Health 테이블 생성하기\n",
    "sql = \"\"\"CREATE TABLE IF NOT EXISTS Basic_Health  \n",
    "        (\n",
    "        User_ID INTEGER NOT NULL, \n",
    "        Year INTEGER NOT NULL,\n",
    "        Sex INTEGER NOT NULL,\n",
    "        Age_Group INTEGER NOT NULL,\n",
    "        Region_Code INTEGER NOT NULL,\n",
    "        Height INTEGER NOT NULL,\n",
    "        Weight INTEGER NOT NULL,\n",
    "        Waist REAL,\n",
    "        Sight_Left REAL,\n",
    "        Sight_Right REAL,\n",
    "        Hear_Left REAL,\n",
    "        Hear_Right REAL,\n",
    "        Smoking_Type INTEGER,\n",
    "        PRIMARY KEY (User_ID),\n",
    "        FOREIGN KEY (Region_Code) REFERENCES Region (Region_Code) \n",
    "        )\n",
    "        \"\"\"\n",
    "\n",
    "cur.execute(sql)"
   ]
  },
  {
   "cell_type": "code",
   "execution_count": 54,
   "id": "9094196a-f76a-4d50-9edc-1dd4644f7b20",
   "metadata": {},
   "outputs": [],
   "source": [
    "# sql = 'DROP TABLE Basic_Health' ## table 삭제\n",
    "# cur.execute(sql)"
   ]
  },
  {
   "cell_type": "code",
   "execution_count": 55,
   "id": "1d5c958a-fe7f-432b-b403-b5495a1ec3f8",
   "metadata": {},
   "outputs": [
    {
     "data": {
      "text/plain": [
       "9999"
      ]
     },
     "execution_count": 55,
     "metadata": {},
     "output_type": "execute_result"
    }
   ],
   "source": [
    "basic_health_table.to_sql('Basic_Health', conn, method='multi', if_exists='append', index=False)"
   ]
  },
  {
   "cell_type": "code",
   "execution_count": 56,
   "id": "088fa8ca-9cab-4a37-be56-6d64b76e8b3b",
   "metadata": {},
   "outputs": [],
   "source": [
    "basic_health_table.to_csv('./Data/Basic_Health.csv', index=False)"
   ]
  },
  {
   "cell_type": "markdown",
   "id": "a7e5432b-bf78-4043-a63f-ba4dc58cfef9",
   "metadata": {},
   "source": [
    "- tooth table 생성"
   ]
  },
  {
   "cell_type": "code",
   "execution_count": 57,
   "id": "5706452a-6a0b-4a0b-8b36-494166d81a38",
   "metadata": {},
   "outputs": [
    {
     "data": {
      "text/plain": [
       "<sqlite3.Cursor at 0x189186860a0>"
      ]
     },
     "execution_count": 57,
     "metadata": {},
     "output_type": "execute_result"
    }
   ],
   "source": [
    "## Tooth 테이블 생성하기\n",
    "sql = \"\"\"CREATE TABLE IF NOT EXISTS Tooth  \n",
    "        (\n",
    "        User_ID INTEGER NOT NULL, \n",
    "        CRS_YN INTEGER,\n",
    "        Tartar_YN INTEGER,\n",
    "        PRIMARY KEY (User_ID),\n",
    "        FOREIGN KEY (User_ID) REFERENCES Basic_Health (User_ID) \n",
    "        )\n",
    "        \"\"\"\n",
    "\n",
    "cur.execute(sql)"
   ]
  },
  {
   "cell_type": "code",
   "execution_count": 58,
   "id": "ecb5981f-f243-4dd7-940c-126bb7139f30",
   "metadata": {},
   "outputs": [],
   "source": [
    "# sql = 'DROP TABLE Tooth' ## table 삭제\n",
    "# cur.execute(sql)"
   ]
  },
  {
   "cell_type": "code",
   "execution_count": 59,
   "id": "4b1e2a65-f0c0-4c44-9e04-dc8f00c5257e",
   "metadata": {},
   "outputs": [
    {
     "data": {
      "text/plain": [
       "3832"
      ]
     },
     "execution_count": 59,
     "metadata": {},
     "output_type": "execute_result"
    }
   ],
   "source": [
    "tooth_table.to_sql('Tooth', conn, method='multi', if_exists='append', index=False)"
   ]
  },
  {
   "cell_type": "code",
   "execution_count": 60,
   "id": "c0450f97-ecb5-4cc4-bc17-38c294784fdc",
   "metadata": {},
   "outputs": [],
   "source": [
    "tooth_table.to_csv('./Data/Tooth.csv', index=False)"
   ]
  },
  {
   "cell_type": "markdown",
   "id": "fa667dee-5f04-4383-85b4-efc757e38496",
   "metadata": {},
   "source": [
    "- alcohol table 생성\n",
    "\n",
    "`-` 정규화의 결과"
   ]
  },
  {
   "cell_type": "code",
   "execution_count": 61,
   "id": "e96027eb-6086-44e7-af23-4e7b3d603065",
   "metadata": {},
   "outputs": [
    {
     "data": {
      "text/plain": [
       "<sqlite3.Cursor at 0x189186860a0>"
      ]
     },
     "execution_count": 61,
     "metadata": {},
     "output_type": "execute_result"
    }
   ],
   "source": [
    "## Alcohol 테이블 생성하기\n",
    "sql = \"\"\"CREATE TABLE IF NOT EXISTS Alcohol  \n",
    "        (\n",
    "        User_ID INTEGER NOT NULL, \n",
    "        Alcohol_YN INTEGER NOT NULL,\n",
    "        PRIMARY KEY (User_ID),\n",
    "        FOREIGN KEY (User_ID) REFERENCES Basic_Health (User_ID) \n",
    "        )\n",
    "        \"\"\"\n",
    "\n",
    "cur.execute(sql)"
   ]
  },
  {
   "cell_type": "code",
   "execution_count": 62,
   "id": "f2066145-0109-4897-a842-56cefd6c5a83",
   "metadata": {},
   "outputs": [],
   "source": [
    "# sql = 'DROP TABLE Alcohol' ## table 삭제\n",
    "# cur.execute(sql)"
   ]
  },
  {
   "cell_type": "code",
   "execution_count": 63,
   "id": "031babde-35c2-4d09-8fa2-cae997b4064a",
   "metadata": {},
   "outputs": [
    {
     "data": {
      "text/plain": [
       "7680"
      ]
     },
     "execution_count": 63,
     "metadata": {},
     "output_type": "execute_result"
    }
   ],
   "source": [
    "alcohol_table.to_sql('Alcohol', conn, method='multi', if_exists='append', index=False)"
   ]
  },
  {
   "cell_type": "code",
   "execution_count": 64,
   "id": "08257023-b2c0-4206-a690-864312cedeec",
   "metadata": {},
   "outputs": [],
   "source": [
    "alcohol_table.to_csv('./Data/Alcohol.csv', index=False)"
   ]
  },
  {
   "cell_type": "markdown",
   "id": "64c927ef-5956-4688-9d3c-419f24a10ad0",
   "metadata": {},
   "source": [
    "- cholesterol table 생성"
   ]
  },
  {
   "cell_type": "code",
   "execution_count": 65,
   "id": "ff846763-e54a-43f8-b41c-70d097e29175",
   "metadata": {},
   "outputs": [
    {
     "data": {
      "text/plain": [
       "<sqlite3.Cursor at 0x189186860a0>"
      ]
     },
     "execution_count": 65,
     "metadata": {},
     "output_type": "execute_result"
    }
   ],
   "source": [
    "## Cholesterol 테이블 생성하기\n",
    "sql = \"\"\"CREATE TABLE IF NOT EXISTS Cholesterol \n",
    "        (\n",
    "        User_ID INTEGER NOT NULL, \n",
    "        Total_Cholesterol REAL,\n",
    "        Triglyceride REAL,\n",
    "        HDL_Cholesterol REAL,\n",
    "        LDL_Cholesterol REAL,\n",
    "        PRIMARY KEY (User_ID),\n",
    "        FOREIGN KEY (User_ID) REFERENCES Basic_Health (User_ID) \n",
    "        )\n",
    "        \"\"\"\n",
    "\n",
    "cur.execute(sql)"
   ]
  },
  {
   "cell_type": "code",
   "execution_count": 66,
   "id": "ac2b1a5f-32aa-4ed6-8f09-41ce0c0169aa",
   "metadata": {},
   "outputs": [],
   "source": [
    "# sql = 'DROP TABLE Cholesterol' ## table 삭제\n",
    "# cur.execute(sql)"
   ]
  },
  {
   "cell_type": "code",
   "execution_count": 67,
   "id": "6655ea31-8959-40ca-b6f2-562fbf19505d",
   "metadata": {},
   "outputs": [
    {
     "data": {
      "text/plain": [
       "3614"
      ]
     },
     "execution_count": 67,
     "metadata": {},
     "output_type": "execute_result"
    }
   ],
   "source": [
    "cholesterol_table.to_sql('Cholesterol', conn, method='multi', if_exists='append', index=False)"
   ]
  },
  {
   "cell_type": "code",
   "execution_count": 68,
   "id": "3e368358-3682-4cf0-8a5f-581428eee4d8",
   "metadata": {},
   "outputs": [],
   "source": [
    "cholesterol_table.to_csv('./Data/Cholesterol.csv', index=False)"
   ]
  },
  {
   "cell_type": "markdown",
   "id": "c04ccf65-d6fc-4098-a6e0-3bcbc527d6b4",
   "metadata": {},
   "source": [
    "- blood pressure and sugar table 생성"
   ]
  },
  {
   "cell_type": "code",
   "execution_count": 69,
   "id": "70705703-1a86-412f-b1f6-bd05ce2aefe8",
   "metadata": {},
   "outputs": [
    {
     "data": {
      "text/plain": [
       "<sqlite3.Cursor at 0x189186860a0>"
      ]
     },
     "execution_count": 69,
     "metadata": {},
     "output_type": "execute_result"
    }
   ],
   "source": [
    "## Blood_Pressure_Sugar 테이블 생성하기\n",
    "sql = \"\"\"CREATE TABLE IF NOT EXISTS Blood_Pressure_Sugar \n",
    "        (\n",
    "        User_ID INTEGER NOT NULL, \n",
    "        BP_High INTEGER,\n",
    "        BP_Low INTEGER,\n",
    "        BLDS INTEGER,\n",
    "        PRIMARY KEY (User_ID),\n",
    "        FOREIGN KEY (User_ID) REFERENCES Basic_Health (User_ID) \n",
    "        )\n",
    "        \"\"\"\n",
    "\n",
    "cur.execute(sql)"
   ]
  },
  {
   "cell_type": "code",
   "execution_count": 70,
   "id": "c7cda0b2-2382-4d36-aff7-3d6aa41a3126",
   "metadata": {},
   "outputs": [],
   "source": [
    "# sql = 'DROP TABLE Blood_Pressure_Sugar' ## table 삭제\n",
    "# cur.execute(sql)"
   ]
  },
  {
   "cell_type": "code",
   "execution_count": 71,
   "id": "4f4f2d4b-754d-4009-b394-8c8e523495d6",
   "metadata": {},
   "outputs": [
    {
     "data": {
      "text/plain": [
       "9999"
      ]
     },
     "execution_count": 71,
     "metadata": {},
     "output_type": "execute_result"
    }
   ],
   "source": [
    "blood_pressure_sugar_table.to_sql('Blood_Pressure_Sugar', conn, method='multi', if_exists='append', index=False)"
   ]
  },
  {
   "cell_type": "code",
   "execution_count": 72,
   "id": "798c6a11-7fff-4d5d-a549-e009e5c81641",
   "metadata": {},
   "outputs": [],
   "source": [
    "blood_pressure_sugar_table.to_csv('./Data/Blood_Pressure_Sugar.csv', index=False)"
   ]
  },
  {
   "cell_type": "markdown",
   "id": "39b683e3-9646-48a3-acca-9a1d1908ee23",
   "metadata": {},
   "source": [
    "- enzyme table 생성"
   ]
  },
  {
   "cell_type": "code",
   "execution_count": 73,
   "id": "16cf473c-3ea0-4f9e-a494-7a38d53501cc",
   "metadata": {},
   "outputs": [
    {
     "data": {
      "text/plain": [
       "<sqlite3.Cursor at 0x189186860a0>"
      ]
     },
     "execution_count": 73,
     "metadata": {},
     "output_type": "execute_result"
    }
   ],
   "source": [
    "## Enzyme 테이블 생성하기\n",
    "sql = \"\"\"CREATE TABLE IF NOT EXISTS Enzyme \n",
    "        (\n",
    "        User_ID INTEGER NOT NULL, \n",
    "        Hemoglobin REAL,\n",
    "        Proteinuria INTERGER,\n",
    "        Gamma_GTP INTERGER,\n",
    "        Serum_Creatinine REAL,\n",
    "        SGOT_AST INTEGER,\n",
    "        SGOT_ALT INTEGER,\n",
    "        PRIMARY KEY (User_ID),\n",
    "        FOREIGN KEY (User_ID) REFERENCES Basic_Health (User_ID) \n",
    "        )\n",
    "        \"\"\"\n",
    "\n",
    "cur.execute(sql)"
   ]
  },
  {
   "cell_type": "code",
   "execution_count": 74,
   "id": "fd52a256-4ad0-400d-813d-273384a62dd4",
   "metadata": {},
   "outputs": [],
   "source": [
    "# sql = 'DROP TABLE Enzyme' ## table 삭제\n",
    "# cur.execute(sql)"
   ]
  },
  {
   "cell_type": "code",
   "execution_count": 75,
   "id": "091516ba-3b9f-4260-adbb-be301d7a6e50",
   "metadata": {},
   "outputs": [
    {
     "data": {
      "text/plain": [
       "9999"
      ]
     },
     "execution_count": 75,
     "metadata": {},
     "output_type": "execute_result"
    }
   ],
   "source": [
    "enzyme_table.to_sql('Enzyme', conn, method='multi', if_exists='append', index=False)"
   ]
  },
  {
   "cell_type": "code",
   "execution_count": 76,
   "id": "5532cff9-789e-4e2e-a200-94cfd38cd777",
   "metadata": {},
   "outputs": [],
   "source": [
    "enzyme_table.to_csv('./Data/Enzyme.csv', index=False)"
   ]
  },
  {
   "cell_type": "markdown",
   "id": "e0fc431d-d96c-4f73-a082-40e448f22388",
   "metadata": {},
   "source": [
    "- population table 생성"
   ]
  },
  {
   "cell_type": "code",
   "execution_count": 77,
   "id": "baa47363-065e-4f4f-a1f2-49eb8032c645",
   "metadata": {},
   "outputs": [
    {
     "data": {
      "text/plain": [
       "<sqlite3.Cursor at 0x189186860a0>"
      ]
     },
     "execution_count": 77,
     "metadata": {},
     "output_type": "execute_result"
    }
   ],
   "source": [
    "## Population 테이블 생성하기\n",
    "sql = \"\"\"CREATE TABLE IF NOT EXISTS Population\n",
    "        (\n",
    "        Year INTEGER NOT NULL, \n",
    "        Region_Code INTEGER NOT NULL, \n",
    "        Male_Population INTEGER NOT NULL,\n",
    "        Female_Population INTEGER NOT NULL,\n",
    "        Total_Population INTEGER NOT NULL,\n",
    "        PRIMARY KEY (Year, Region_Code),\n",
    "        FOREIGN KEY (Region_Code) REFERENCES Region (Region_Code) \n",
    "        )\n",
    "        \"\"\"\n",
    "\n",
    "cur.execute(sql)"
   ]
  },
  {
   "cell_type": "code",
   "execution_count": 78,
   "id": "d42aa83f-5b0a-4b45-913f-ae4d1717a7dd",
   "metadata": {},
   "outputs": [],
   "source": [
    "# sql = 'DROP TABLE Population' ## table 삭제\n",
    "# cur.execute(sql)"
   ]
  },
  {
   "cell_type": "code",
   "execution_count": 79,
   "id": "f1b126d8-b74d-400a-aa98-5e1770525cce",
   "metadata": {},
   "outputs": [
    {
     "data": {
      "text/plain": [
       "54"
      ]
     },
     "execution_count": 79,
     "metadata": {},
     "output_type": "execute_result"
    }
   ],
   "source": [
    "df2.to_sql('Population', conn, method='multi', if_exists='append', index=False)"
   ]
  },
  {
   "cell_type": "code",
   "execution_count": 80,
   "id": "2b664c60-fcca-4439-8c7a-193c6646520c",
   "metadata": {},
   "outputs": [],
   "source": [
    "df2.to_csv('./Data/Population.csv', index=False)"
   ]
  },
  {
   "cell_type": "markdown",
   "id": "7a747ea9-b9f0-4a5f-b6ff-7ea72ef25f48",
   "metadata": {},
   "source": [
    "## 시각화"
   ]
  },
  {
   "cell_type": "code",
   "execution_count": null,
   "id": "089a7e39-3586-4623-86b9-dcf12f0dcd97",
   "metadata": {},
   "outputs": [],
   "source": []
  }
 ],
 "metadata": {
  "kernelspec": {
   "display_name": "Python 3 (ipykernel)",
   "language": "python",
   "name": "python3"
  },
  "language_info": {
   "codemirror_mode": {
    "name": "ipython",
    "version": 3
   },
   "file_extension": ".py",
   "mimetype": "text/x-python",
   "name": "python",
   "nbconvert_exporter": "python",
   "pygments_lexer": "ipython3",
   "version": "3.8.11"
  }
 },
 "nbformat": 4,
 "nbformat_minor": 5
}
